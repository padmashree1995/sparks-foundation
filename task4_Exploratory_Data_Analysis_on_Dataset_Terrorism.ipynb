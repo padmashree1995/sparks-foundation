{
  "nbformat": 4,
  "nbformat_minor": 0,
  "metadata": {
    "colab": {
      "provenance": [],
      "authorship_tag": "ABX9TyPAXVB7p9XfVw5jsfD6GU4n",
      "include_colab_link": true
    },
    "kernelspec": {
      "name": "python3",
      "display_name": "Python 3"
    },
    "language_info": {
      "name": "python"
    }
  },
  "cells": [
    {
      "cell_type": "markdown",
      "metadata": {
        "id": "view-in-github",
        "colab_type": "text"
      },
      "source": [
        "<a href=\"https://colab.research.google.com/github/padmashree1995/sparks-foundation/blob/main/task4_Exploratory_Data_Analysis_on_Dataset_Terrorism.ipynb\" target=\"_parent\"><img src=\"https://colab.research.google.com/assets/colab-badge.svg\" alt=\"Open In Colab\"/></a>"
      ]
    },
    {
      "cell_type": "markdown",
      "source": [
        "import libraries"
      ],
      "metadata": {
        "id": "HWyMxuSml3NG"
      }
    },
    {
      "cell_type": "code",
      "execution_count": 1,
      "metadata": {
        "id": "wSBrHjT8kV7W"
      },
      "outputs": [],
      "source": [
        "import math\n",
        "import warnings\n",
        "import numpy as np\n",
        "import pandas as pd\n",
        "import seaborn as sns\n",
        "import plotly.offline as py\n",
        "import plotly.graph_objs as go\n",
        "import matplotlib.pyplot as plt\n",
        "warnings.filterwarnings('ignore')"
      ]
    },
    {
      "cell_type": "code",
      "source": [
        "data = pd.read_csv('/content/sample_data/GlobalTerrorism.csv',encoding='ISO-8859-1')\n",
        "data.head"
      ],
      "metadata": {
        "colab": {
          "base_uri": "https://localhost:8080/"
        },
        "id": "G-QSjK5wmC2R",
        "outputId": "06dee2e9-18db-4f66-c7c9-7684933bebcd"
      },
      "execution_count": 2,
      "outputs": [
        {
          "output_type": "execute_result",
          "data": {
            "text/plain": [
              "<bound method NDFrame.head of            eventid  iyear  imonth  iday approxdate  extended resolution  \\\n",
              "0     197000000001   1970       7     2        NaN         0        NaN   \n",
              "1     197000000002   1970       0     0        NaN         0        NaN   \n",
              "2     197001000001   1970       1     0        NaN         0        NaN   \n",
              "3     197001000002   1970       1     0        NaN         0        NaN   \n",
              "4     197001000003   1970       1     0        NaN         0        NaN   \n",
              "...            ...    ...     ...   ...        ...       ...        ...   \n",
              "1205  197203110001   1972       3    11        NaN         0        NaN   \n",
              "1206  197203120001   1972       3    12        NaN         0        NaN   \n",
              "1207  197203130001   1972       3    13        NaN         0        NaN   \n",
              "1208  197203150001   1972       3    15        NaN         0        NaN   \n",
              "1209  197203150002   1972       3    15        NaN         0        NaN   \n",
              "\n",
              "      country         country_txt  region  ...  \\\n",
              "0          58  Dominican Republic       2  ...   \n",
              "1         130              Mexico       1  ...   \n",
              "2         160         Philippines       5  ...   \n",
              "3          78              Greece       8  ...   \n",
              "4         101               Japan       4  ...   \n",
              "...       ...                 ...     ...  ...   \n",
              "1205      217       United States       1  ...   \n",
              "1206      603      United Kingdom       8  ...   \n",
              "1207      603      United Kingdom       8  ...   \n",
              "1208      603      United Kingdom       8  ...   \n",
              "1209      603      United Kingdom       8  ...   \n",
              "\n",
              "                                               addnotes  \\\n",
              "0                                                   NaN   \n",
              "1                                                   NaN   \n",
              "2                                                   NaN   \n",
              "3                                                   NaN   \n",
              "4                                                   NaN   \n",
              "...                                                 ...   \n",
              "1205  The Jewish Resistance Assault Team is likely a...   \n",
              "1206                                                NaN   \n",
              "1207                                                NaN   \n",
              "1208                                                NaN   \n",
              "1209                                                NaN   \n",
              "\n",
              "                                                 scite1  \\\n",
              "0                                                   NaN   \n",
              "1                                                   NaN   \n",
              "2                                                   NaN   \n",
              "3                                                   NaN   \n",
              "4                                                   NaN   \n",
              "...                                                 ...   \n",
              "1205  \"Fire Bombers Said To Pick Wrong Home,\" New Yo...   \n",
              "1206                                                NaN   \n",
              "1207                                                NaN   \n",
              "1208                                                NaN   \n",
              "1209                                                NaN   \n",
              "\n",
              "                                                 scite2  scite3  \\\n",
              "0                                                   NaN     NaN   \n",
              "1                                                   NaN     NaN   \n",
              "2                                                   NaN     NaN   \n",
              "3                                                   NaN     NaN   \n",
              "4                                                   NaN     NaN   \n",
              "...                                                 ...     ...   \n",
              "1205  Christopher Hewitt, \"Political Violence and Te...     NaN   \n",
              "1206                                                NaN     NaN   \n",
              "1207                                                NaN     NaN   \n",
              "1208                                                NaN     NaN   \n",
              "1209                                                NaN     NaN   \n",
              "\n",
              "            dbsource  INT_LOG  INT_IDEO INT_MISC INT_ANY  related  \n",
              "0               PGIS      0.0       0.0      0.0     0.0      NaN  \n",
              "1               PGIS      0.0       1.0      1.0     1.0      NaN  \n",
              "2               PGIS     -9.0      -9.0      1.0     1.0      NaN  \n",
              "3               PGIS     -9.0      -9.0      1.0     1.0      NaN  \n",
              "4               PGIS     -9.0      -9.0      1.0     1.0      NaN  \n",
              "...              ...      ...       ...      ...     ...      ...  \n",
              "1205  Hewitt Project      0.0       0.0      0.0     0.0      NaN  \n",
              "1206            CAIN      0.0       0.0      1.0     1.0      NaN  \n",
              "1207            CAIN      0.0       0.0      1.0     1.0      NaN  \n",
              "1208            CAIN      0.0       0.0      1.0     1.0      NaN  \n",
              "1209             NaN      NaN       NaN      NaN     NaN      NaN  \n",
              "\n",
              "[1210 rows x 135 columns]>"
            ]
          },
          "metadata": {},
          "execution_count": 2
        }
      ]
    },
    {
      "cell_type": "code",
      "source": [
        "data.dtypes"
      ],
      "metadata": {
        "colab": {
          "base_uri": "https://localhost:8080/"
        },
        "id": "7_OBvM7LJYYr",
        "outputId": "aafbdfc9-b005-4293-f6a3-43527746b6db"
      },
      "execution_count": 3,
      "outputs": [
        {
          "output_type": "execute_result",
          "data": {
            "text/plain": [
              "eventid         int64\n",
              "iyear           int64\n",
              "imonth          int64\n",
              "iday            int64\n",
              "approxdate     object\n",
              "               ...   \n",
              "INT_LOG       float64\n",
              "INT_IDEO      float64\n",
              "INT_MISC      float64\n",
              "INT_ANY       float64\n",
              "related        object\n",
              "Length: 135, dtype: object"
            ]
          },
          "metadata": {},
          "execution_count": 3
        }
      ]
    },
    {
      "cell_type": "code",
      "source": [
        "data.describe"
      ],
      "metadata": {
        "colab": {
          "base_uri": "https://localhost:8080/"
        },
        "id": "waS2ZrTdm-iy",
        "outputId": "9835b65c-6405-42da-b6ad-72056b3fabfb"
      },
      "execution_count": null,
      "outputs": [
        {
          "output_type": "execute_result",
          "data": {
            "text/plain": [
              "<bound method NDFrame.describe of            eventid  iyear  imonth  iday approxdate  extended resolution  \\\n",
              "0     197000000001   1970       7     2        NaN         0        NaN   \n",
              "1     197000000002   1970       0     0        NaN         0        NaN   \n",
              "2     197001000001   1970       1     0        NaN         0        NaN   \n",
              "3     197001000002   1970       1     0        NaN         0        NaN   \n",
              "4     197001000003   1970       1     0        NaN         0        NaN   \n",
              "...            ...    ...     ...   ...        ...       ...        ...   \n",
              "2904  197503270005   1975       3    27        NaN         0        NaN   \n",
              "2905  197503270006   1975       3    27        NaN         0        NaN   \n",
              "2906  197503270007   1975       3    27        NaN         0        NaN   \n",
              "2907  197503270008   1975       3    27        NaN         0        NaN   \n",
              "2908  197503270009   1975       3    27        NaN         0        NaN   \n",
              "\n",
              "      country         country_txt  region  ... addnotes scite1 scite2  scite3  \\\n",
              "0          58  Dominican Republic       2  ...      NaN    NaN    NaN     NaN   \n",
              "1         130              Mexico       1  ...      NaN    NaN    NaN     NaN   \n",
              "2         160         Philippines       5  ...      NaN    NaN    NaN     NaN   \n",
              "3          78              Greece       8  ...      NaN    NaN    NaN     NaN   \n",
              "4         101               Japan       4  ...      NaN    NaN    NaN     NaN   \n",
              "...       ...                 ...     ...  ...      ...    ...    ...     ...   \n",
              "2904      185               Spain       8  ...      NaN    NaN    NaN     NaN   \n",
              "2905      185               Spain       8  ...      NaN    NaN    NaN     NaN   \n",
              "2906      217       United States       1  ...      NaN    NaN    NaN     NaN   \n",
              "2907      217       United States       1  ...      NaN    NaN    NaN     NaN   \n",
              "2908      217       United States       1  ...      NaN    NaN    NaN     NaN   \n",
              "\n",
              "      dbsource  INT_LOG  INT_IDEO INT_MISC INT_ANY  related  \n",
              "0         PGIS      0.0       0.0      0.0     0.0      NaN  \n",
              "1         PGIS      0.0       1.0      1.0     1.0      NaN  \n",
              "2         PGIS     -9.0      -9.0      1.0     1.0      NaN  \n",
              "3         PGIS     -9.0      -9.0      1.0     1.0      NaN  \n",
              "4         PGIS     -9.0      -9.0      1.0     1.0      NaN  \n",
              "...        ...      ...       ...      ...     ...      ...  \n",
              "2904      PGIS      0.0       1.0      0.0     1.0      NaN  \n",
              "2905      PGIS      0.0       1.0      0.0     1.0      NaN  \n",
              "2906      PGIS      0.0       0.0      0.0     0.0      NaN  \n",
              "2907      PGIS      1.0       1.0      1.0     1.0      NaN  \n",
              "2908       NaN      NaN       NaN      NaN     NaN      NaN  \n",
              "\n",
              "[2909 rows x 135 columns]>"
            ]
          },
          "metadata": {},
          "execution_count": 3
        }
      ]
    },
    {
      "cell_type": "code",
      "source": [
        "data.isnull().sum()"
      ],
      "metadata": {
        "colab": {
          "base_uri": "https://localhost:8080/"
        },
        "id": "cJ8MQ-canFaa",
        "outputId": "ff7ef95a-fc8d-483d-ee04-dc463d0ceb21"
      },
      "execution_count": null,
      "outputs": [
        {
          "output_type": "execute_result",
          "data": {
            "text/plain": [
              "eventid          0\n",
              "iyear            0\n",
              "imonth           0\n",
              "iday             0\n",
              "approxdate    2893\n",
              "              ... \n",
              "INT_LOG          1\n",
              "INT_IDEO         1\n",
              "INT_MISC         1\n",
              "INT_ANY          1\n",
              "related       2649\n",
              "Length: 135, dtype: int64"
            ]
          },
          "metadata": {},
          "execution_count": 4
        }
      ]
    },
    {
      "cell_type": "code",
      "source": [
        "data.tail"
      ],
      "metadata": {
        "colab": {
          "base_uri": "https://localhost:8080/"
        },
        "id": "jD79_mSFnORW",
        "outputId": "bc54435b-de5e-4015-c5b7-323ddf54d15c"
      },
      "execution_count": null,
      "outputs": [
        {
          "output_type": "execute_result",
          "data": {
            "text/plain": [
              "<bound method NDFrame.tail of            eventid  iyear  imonth  iday approxdate  extended resolution  \\\n",
              "0     197000000001   1970       7     2        NaN         0        NaN   \n",
              "1     197000000002   1970       0     0        NaN         0        NaN   \n",
              "2     197001000001   1970       1     0        NaN         0        NaN   \n",
              "3     197001000002   1970       1     0        NaN         0        NaN   \n",
              "4     197001000003   1970       1     0        NaN         0        NaN   \n",
              "...            ...    ...     ...   ...        ...       ...        ...   \n",
              "2904  197503270005   1975       3    27        NaN         0        NaN   \n",
              "2905  197503270006   1975       3    27        NaN         0        NaN   \n",
              "2906  197503270007   1975       3    27        NaN         0        NaN   \n",
              "2907  197503270008   1975       3    27        NaN         0        NaN   \n",
              "2908  197503270009   1975       3    27        NaN         0        NaN   \n",
              "\n",
              "      country         country_txt  region  ... addnotes scite1 scite2  scite3  \\\n",
              "0          58  Dominican Republic       2  ...      NaN    NaN    NaN     NaN   \n",
              "1         130              Mexico       1  ...      NaN    NaN    NaN     NaN   \n",
              "2         160         Philippines       5  ...      NaN    NaN    NaN     NaN   \n",
              "3          78              Greece       8  ...      NaN    NaN    NaN     NaN   \n",
              "4         101               Japan       4  ...      NaN    NaN    NaN     NaN   \n",
              "...       ...                 ...     ...  ...      ...    ...    ...     ...   \n",
              "2904      185               Spain       8  ...      NaN    NaN    NaN     NaN   \n",
              "2905      185               Spain       8  ...      NaN    NaN    NaN     NaN   \n",
              "2906      217       United States       1  ...      NaN    NaN    NaN     NaN   \n",
              "2907      217       United States       1  ...      NaN    NaN    NaN     NaN   \n",
              "2908      217       United States       1  ...      NaN    NaN    NaN     NaN   \n",
              "\n",
              "      dbsource  INT_LOG  INT_IDEO INT_MISC INT_ANY  related  \n",
              "0         PGIS      0.0       0.0      0.0     0.0      NaN  \n",
              "1         PGIS      0.0       1.0      1.0     1.0      NaN  \n",
              "2         PGIS     -9.0      -9.0      1.0     1.0      NaN  \n",
              "3         PGIS     -9.0      -9.0      1.0     1.0      NaN  \n",
              "4         PGIS     -9.0      -9.0      1.0     1.0      NaN  \n",
              "...        ...      ...       ...      ...     ...      ...  \n",
              "2904      PGIS      0.0       1.0      0.0     1.0      NaN  \n",
              "2905      PGIS      0.0       1.0      0.0     1.0      NaN  \n",
              "2906      PGIS      0.0       0.0      0.0     0.0      NaN  \n",
              "2907      PGIS      1.0       1.0      1.0     1.0      NaN  \n",
              "2908       NaN      NaN       NaN      NaN     NaN      NaN  \n",
              "\n",
              "[2909 rows x 135 columns]>"
            ]
          },
          "metadata": {},
          "execution_count": 5
        }
      ]
    },
    {
      "cell_type": "code",
      "source": [
        "data.shape"
      ],
      "metadata": {
        "colab": {
          "base_uri": "https://localhost:8080/"
        },
        "id": "AKPhkP1hnnB0",
        "outputId": "6caac2fa-9173-4ef6-be19-5c1aafda5338"
      },
      "execution_count": null,
      "outputs": [
        {
          "output_type": "execute_result",
          "data": {
            "text/plain": [
              "(2909, 135)"
            ]
          },
          "metadata": {},
          "execution_count": 6
        }
      ]
    },
    {
      "cell_type": "code",
      "source": [
        "data.columns"
      ],
      "metadata": {
        "colab": {
          "base_uri": "https://localhost:8080/"
        },
        "id": "Ge9TxyywnxH5",
        "outputId": "3f90adae-b070-4db3-973c-a6f22a843381"
      },
      "execution_count": null,
      "outputs": [
        {
          "output_type": "execute_result",
          "data": {
            "text/plain": [
              "Index(['eventid', 'iyear', 'imonth', 'iday', 'approxdate', 'extended',\n",
              "       'resolution', 'country', 'country_txt', 'region',\n",
              "       ...\n",
              "       'addnotes', 'scite1', 'scite2', 'scite3', 'dbsource', 'INT_LOG',\n",
              "       'INT_IDEO', 'INT_MISC', 'INT_ANY', 'related'],\n",
              "      dtype='object', length=135)"
            ]
          },
          "metadata": {},
          "execution_count": 14
        }
      ]
    },
    {
      "cell_type": "code",
      "source": [
        "data.duplicated()"
      ],
      "metadata": {
        "colab": {
          "base_uri": "https://localhost:8080/"
        },
        "id": "DZOfyr5fn1IH",
        "outputId": "3333b0f5-c028-46c2-8b0c-568220533670"
      },
      "execution_count": null,
      "outputs": [
        {
          "output_type": "execute_result",
          "data": {
            "text/plain": [
              "0       False\n",
              "1       False\n",
              "2       False\n",
              "3       False\n",
              "4       False\n",
              "        ...  \n",
              "2904    False\n",
              "2905    False\n",
              "2906    False\n",
              "2907    False\n",
              "2908    False\n",
              "Length: 2909, dtype: bool"
            ]
          },
          "metadata": {},
          "execution_count": 7
        }
      ]
    },
    {
      "cell_type": "code",
      "source": [
        "data.head().iloc[:,100:]"
      ],
      "metadata": {
        "colab": {
          "base_uri": "https://localhost:8080/",
          "height": 299
        },
        "id": "AOvXoAywn8Bl",
        "outputId": "10b91a51-0814-450f-bbdb-796d634d9193"
      },
      "execution_count": null,
      "outputs": [
        {
          "output_type": "execute_result",
          "data": {
            "text/plain": [
              "   nkillter  nwound  nwoundus  nwoundte  property  propextent propextent_txt  \\\n",
              "0       NaN     0.0       NaN       NaN         0         NaN            NaN   \n",
              "1       NaN     0.0       NaN       NaN         0         NaN            NaN   \n",
              "2       NaN     0.0       NaN       NaN         0         NaN            NaN   \n",
              "3       NaN     NaN       NaN       NaN         1         NaN            NaN   \n",
              "4       NaN     NaN       NaN       NaN         1         NaN            NaN   \n",
              "\n",
              "   propvalue propcomment  ishostkid  ...  addnotes  scite1  scite2  scite3  \\\n",
              "0        NaN         NaN        0.0  ...       NaN     NaN     NaN     NaN   \n",
              "1        NaN         NaN        1.0  ...       NaN     NaN     NaN     NaN   \n",
              "2        NaN         NaN        0.0  ...       NaN     NaN     NaN     NaN   \n",
              "3        NaN         NaN        0.0  ...       NaN     NaN     NaN     NaN   \n",
              "4        NaN         NaN        0.0  ...       NaN     NaN     NaN     NaN   \n",
              "\n",
              "  dbsource INT_LOG  INT_IDEO  INT_MISC  INT_ANY  related  \n",
              "0     PGIS     0.0       0.0       0.0      0.0      NaN  \n",
              "1     PGIS     0.0       1.0       1.0      1.0      NaN  \n",
              "2     PGIS    -9.0      -9.0       1.0      1.0      NaN  \n",
              "3     PGIS    -9.0      -9.0       1.0      1.0      NaN  \n",
              "4     PGIS    -9.0      -9.0       1.0      1.0      NaN  \n",
              "\n",
              "[5 rows x 35 columns]"
            ],
            "text/html": [
              "\n",
              "  <div id=\"df-26d98aae-91b6-4224-ae67-14422338a6ca\">\n",
              "    <div class=\"colab-df-container\">\n",
              "      <div>\n",
              "<style scoped>\n",
              "    .dataframe tbody tr th:only-of-type {\n",
              "        vertical-align: middle;\n",
              "    }\n",
              "\n",
              "    .dataframe tbody tr th {\n",
              "        vertical-align: top;\n",
              "    }\n",
              "\n",
              "    .dataframe thead th {\n",
              "        text-align: right;\n",
              "    }\n",
              "</style>\n",
              "<table border=\"1\" class=\"dataframe\">\n",
              "  <thead>\n",
              "    <tr style=\"text-align: right;\">\n",
              "      <th></th>\n",
              "      <th>nkillter</th>\n",
              "      <th>nwound</th>\n",
              "      <th>nwoundus</th>\n",
              "      <th>nwoundte</th>\n",
              "      <th>property</th>\n",
              "      <th>propextent</th>\n",
              "      <th>propextent_txt</th>\n",
              "      <th>propvalue</th>\n",
              "      <th>propcomment</th>\n",
              "      <th>ishostkid</th>\n",
              "      <th>...</th>\n",
              "      <th>addnotes</th>\n",
              "      <th>scite1</th>\n",
              "      <th>scite2</th>\n",
              "      <th>scite3</th>\n",
              "      <th>dbsource</th>\n",
              "      <th>INT_LOG</th>\n",
              "      <th>INT_IDEO</th>\n",
              "      <th>INT_MISC</th>\n",
              "      <th>INT_ANY</th>\n",
              "      <th>related</th>\n",
              "    </tr>\n",
              "  </thead>\n",
              "  <tbody>\n",
              "    <tr>\n",
              "      <th>0</th>\n",
              "      <td>NaN</td>\n",
              "      <td>0.0</td>\n",
              "      <td>NaN</td>\n",
              "      <td>NaN</td>\n",
              "      <td>0</td>\n",
              "      <td>NaN</td>\n",
              "      <td>NaN</td>\n",
              "      <td>NaN</td>\n",
              "      <td>NaN</td>\n",
              "      <td>0.0</td>\n",
              "      <td>...</td>\n",
              "      <td>NaN</td>\n",
              "      <td>NaN</td>\n",
              "      <td>NaN</td>\n",
              "      <td>NaN</td>\n",
              "      <td>PGIS</td>\n",
              "      <td>0.0</td>\n",
              "      <td>0.0</td>\n",
              "      <td>0.0</td>\n",
              "      <td>0.0</td>\n",
              "      <td>NaN</td>\n",
              "    </tr>\n",
              "    <tr>\n",
              "      <th>1</th>\n",
              "      <td>NaN</td>\n",
              "      <td>0.0</td>\n",
              "      <td>NaN</td>\n",
              "      <td>NaN</td>\n",
              "      <td>0</td>\n",
              "      <td>NaN</td>\n",
              "      <td>NaN</td>\n",
              "      <td>NaN</td>\n",
              "      <td>NaN</td>\n",
              "      <td>1.0</td>\n",
              "      <td>...</td>\n",
              "      <td>NaN</td>\n",
              "      <td>NaN</td>\n",
              "      <td>NaN</td>\n",
              "      <td>NaN</td>\n",
              "      <td>PGIS</td>\n",
              "      <td>0.0</td>\n",
              "      <td>1.0</td>\n",
              "      <td>1.0</td>\n",
              "      <td>1.0</td>\n",
              "      <td>NaN</td>\n",
              "    </tr>\n",
              "    <tr>\n",
              "      <th>2</th>\n",
              "      <td>NaN</td>\n",
              "      <td>0.0</td>\n",
              "      <td>NaN</td>\n",
              "      <td>NaN</td>\n",
              "      <td>0</td>\n",
              "      <td>NaN</td>\n",
              "      <td>NaN</td>\n",
              "      <td>NaN</td>\n",
              "      <td>NaN</td>\n",
              "      <td>0.0</td>\n",
              "      <td>...</td>\n",
              "      <td>NaN</td>\n",
              "      <td>NaN</td>\n",
              "      <td>NaN</td>\n",
              "      <td>NaN</td>\n",
              "      <td>PGIS</td>\n",
              "      <td>-9.0</td>\n",
              "      <td>-9.0</td>\n",
              "      <td>1.0</td>\n",
              "      <td>1.0</td>\n",
              "      <td>NaN</td>\n",
              "    </tr>\n",
              "    <tr>\n",
              "      <th>3</th>\n",
              "      <td>NaN</td>\n",
              "      <td>NaN</td>\n",
              "      <td>NaN</td>\n",
              "      <td>NaN</td>\n",
              "      <td>1</td>\n",
              "      <td>NaN</td>\n",
              "      <td>NaN</td>\n",
              "      <td>NaN</td>\n",
              "      <td>NaN</td>\n",
              "      <td>0.0</td>\n",
              "      <td>...</td>\n",
              "      <td>NaN</td>\n",
              "      <td>NaN</td>\n",
              "      <td>NaN</td>\n",
              "      <td>NaN</td>\n",
              "      <td>PGIS</td>\n",
              "      <td>-9.0</td>\n",
              "      <td>-9.0</td>\n",
              "      <td>1.0</td>\n",
              "      <td>1.0</td>\n",
              "      <td>NaN</td>\n",
              "    </tr>\n",
              "    <tr>\n",
              "      <th>4</th>\n",
              "      <td>NaN</td>\n",
              "      <td>NaN</td>\n",
              "      <td>NaN</td>\n",
              "      <td>NaN</td>\n",
              "      <td>1</td>\n",
              "      <td>NaN</td>\n",
              "      <td>NaN</td>\n",
              "      <td>NaN</td>\n",
              "      <td>NaN</td>\n",
              "      <td>0.0</td>\n",
              "      <td>...</td>\n",
              "      <td>NaN</td>\n",
              "      <td>NaN</td>\n",
              "      <td>NaN</td>\n",
              "      <td>NaN</td>\n",
              "      <td>PGIS</td>\n",
              "      <td>-9.0</td>\n",
              "      <td>-9.0</td>\n",
              "      <td>1.0</td>\n",
              "      <td>1.0</td>\n",
              "      <td>NaN</td>\n",
              "    </tr>\n",
              "  </tbody>\n",
              "</table>\n",
              "<p>5 rows × 35 columns</p>\n",
              "</div>\n",
              "      <button class=\"colab-df-convert\" onclick=\"convertToInteractive('df-26d98aae-91b6-4224-ae67-14422338a6ca')\"\n",
              "              title=\"Convert this dataframe to an interactive table.\"\n",
              "              style=\"display:none;\">\n",
              "        \n",
              "  <svg xmlns=\"http://www.w3.org/2000/svg\" height=\"24px\"viewBox=\"0 0 24 24\"\n",
              "       width=\"24px\">\n",
              "    <path d=\"M0 0h24v24H0V0z\" fill=\"none\"/>\n",
              "    <path d=\"M18.56 5.44l.94 2.06.94-2.06 2.06-.94-2.06-.94-.94-2.06-.94 2.06-2.06.94zm-11 1L8.5 8.5l.94-2.06 2.06-.94-2.06-.94L8.5 2.5l-.94 2.06-2.06.94zm10 10l.94 2.06.94-2.06 2.06-.94-2.06-.94-.94-2.06-.94 2.06-2.06.94z\"/><path d=\"M17.41 7.96l-1.37-1.37c-.4-.4-.92-.59-1.43-.59-.52 0-1.04.2-1.43.59L10.3 9.45l-7.72 7.72c-.78.78-.78 2.05 0 2.83L4 21.41c.39.39.9.59 1.41.59.51 0 1.02-.2 1.41-.59l7.78-7.78 2.81-2.81c.8-.78.8-2.07 0-2.86zM5.41 20L4 18.59l7.72-7.72 1.47 1.35L5.41 20z\"/>\n",
              "  </svg>\n",
              "      </button>\n",
              "      \n",
              "  <style>\n",
              "    .colab-df-container {\n",
              "      display:flex;\n",
              "      flex-wrap:wrap;\n",
              "      gap: 12px;\n",
              "    }\n",
              "\n",
              "    .colab-df-convert {\n",
              "      background-color: #E8F0FE;\n",
              "      border: none;\n",
              "      border-radius: 50%;\n",
              "      cursor: pointer;\n",
              "      display: none;\n",
              "      fill: #1967D2;\n",
              "      height: 32px;\n",
              "      padding: 0 0 0 0;\n",
              "      width: 32px;\n",
              "    }\n",
              "\n",
              "    .colab-df-convert:hover {\n",
              "      background-color: #E2EBFA;\n",
              "      box-shadow: 0px 1px 2px rgba(60, 64, 67, 0.3), 0px 1px 3px 1px rgba(60, 64, 67, 0.15);\n",
              "      fill: #174EA6;\n",
              "    }\n",
              "\n",
              "    [theme=dark] .colab-df-convert {\n",
              "      background-color: #3B4455;\n",
              "      fill: #D2E3FC;\n",
              "    }\n",
              "\n",
              "    [theme=dark] .colab-df-convert:hover {\n",
              "      background-color: #434B5C;\n",
              "      box-shadow: 0px 1px 3px 1px rgba(0, 0, 0, 0.15);\n",
              "      filter: drop-shadow(0px 1px 2px rgba(0, 0, 0, 0.3));\n",
              "      fill: #FFFFFF;\n",
              "    }\n",
              "  </style>\n",
              "\n",
              "      <script>\n",
              "        const buttonEl =\n",
              "          document.querySelector('#df-26d98aae-91b6-4224-ae67-14422338a6ca button.colab-df-convert');\n",
              "        buttonEl.style.display =\n",
              "          google.colab.kernel.accessAllowed ? 'block' : 'none';\n",
              "\n",
              "        async function convertToInteractive(key) {\n",
              "          const element = document.querySelector('#df-26d98aae-91b6-4224-ae67-14422338a6ca');\n",
              "          const dataTable =\n",
              "            await google.colab.kernel.invokeFunction('convertToInteractive',\n",
              "                                                     [key], {});\n",
              "          if (!dataTable) return;\n",
              "\n",
              "          const docLinkHtml = 'Like what you see? Visit the ' +\n",
              "            '<a target=\"_blank\" href=https://colab.research.google.com/notebooks/data_table.ipynb>data table notebook</a>'\n",
              "            + ' to learn more about interactive tables.';\n",
              "          element.innerHTML = '';\n",
              "          dataTable['output_type'] = 'display_data';\n",
              "          await google.colab.output.renderOutput(dataTable, element);\n",
              "          const docLink = document.createElement('div');\n",
              "          docLink.innerHTML = docLinkHtml;\n",
              "          element.appendChild(docLink);\n",
              "        }\n",
              "      </script>\n",
              "    </div>\n",
              "  </div>\n",
              "  "
            ]
          },
          "metadata": {},
          "execution_count": 8
        }
      ]
    },
    {
      "cell_type": "code",
      "source": [
        "data.isnull().sum()"
      ],
      "metadata": {
        "colab": {
          "base_uri": "https://localhost:8080/"
        },
        "id": "g4wu6NgX6Shj",
        "outputId": "136c4624-682f-4d17-d6d9-8659efe4783a"
      },
      "execution_count": null,
      "outputs": [
        {
          "output_type": "execute_result",
          "data": {
            "text/plain": [
              "eventid          0\n",
              "iyear            0\n",
              "imonth           0\n",
              "iday             0\n",
              "approxdate    2893\n",
              "              ... \n",
              "INT_LOG          1\n",
              "INT_IDEO         1\n",
              "INT_MISC         1\n",
              "INT_ANY          1\n",
              "related       2649\n",
              "Length: 135, dtype: int64"
            ]
          },
          "metadata": {},
          "execution_count": 9
        }
      ]
    },
    {
      "cell_type": "code",
      "source": [
        "data.rename(columns={'iyear':'Year','imonth':'Month','iday':'Day','country_txt':'Country','provstate':'state',\n",
        "                       'region_txt':'Region','attacktype1_txt':'AttackType','target1':'Target','nkill':'Killed',\n",
        "                       'nwound':'Wounded','summary':'Summary','gname':'Group','targtype1_txt':'Target_type',\n",
        "                       'weaptype1_txt':'Weapon_type','motive':'Motive'},inplace=True)"
      ],
      "metadata": {
        "id": "UA8sWOhAshOk"
      },
      "execution_count": null,
      "outputs": []
    },
    {
      "cell_type": "code",
      "source": [
        "data=data[['Year','Month','Day','Country','state','Region','city','latitude','longitude','AttackType','Killed',\n",
        "               'Wounded','Target','Summary','Group','Target_type','Weapon_type','Motive']]"
      ],
      "metadata": {
        "id": "8SSgf-qGskOk"
      },
      "execution_count": null,
      "outputs": []
    },
    {
      "cell_type": "code",
      "source": [
        "data.isnull().sum()"
      ],
      "metadata": {
        "colab": {
          "base_uri": "https://localhost:8080/"
        },
        "id": "ELaYWT-csuV0",
        "outputId": "52f4bb23-74f6-4a31-b15d-9cc9429d59f3"
      },
      "execution_count": null,
      "outputs": [
        {
          "output_type": "execute_result",
          "data": {
            "text/plain": [
              "Year              0\n",
              "Month             0\n",
              "Day               0\n",
              "Country           0\n",
              "state            10\n",
              "Region            0\n",
              "city              0\n",
              "latitude         48\n",
              "longitude        48\n",
              "AttackType        0\n",
              "Killed          305\n",
              "Wounded        1062\n",
              "Target           47\n",
              "Summary        2188\n",
              "Group             0\n",
              "Target_type       0\n",
              "Weapon_type       0\n",
              "Motive         2449\n",
              "dtype: int64"
            ]
          },
          "metadata": {},
          "execution_count": 12
        }
      ]
    },
    {
      "cell_type": "code",
      "source": [
        "data.info()"
      ],
      "metadata": {
        "colab": {
          "base_uri": "https://localhost:8080/"
        },
        "id": "9QDrYRuPs4pt",
        "outputId": "f3d31451-9865-47fb-9ec0-c15481d4b8b2"
      },
      "execution_count": null,
      "outputs": [
        {
          "output_type": "stream",
          "name": "stdout",
          "text": [
            "<class 'pandas.core.frame.DataFrame'>\n",
            "RangeIndex: 2909 entries, 0 to 2908\n",
            "Data columns (total 18 columns):\n",
            " #   Column       Non-Null Count  Dtype  \n",
            "---  ------       --------------  -----  \n",
            " 0   Year         2909 non-null   int64  \n",
            " 1   Month        2909 non-null   int64  \n",
            " 2   Day          2909 non-null   int64  \n",
            " 3   Country      2909 non-null   object \n",
            " 4   state        2899 non-null   object \n",
            " 5   Region       2909 non-null   object \n",
            " 6   city         2909 non-null   object \n",
            " 7   latitude     2861 non-null   float64\n",
            " 8   longitude    2861 non-null   float64\n",
            " 9   AttackType   2909 non-null   object \n",
            " 10  Killed       2604 non-null   float64\n",
            " 11  Wounded      1847 non-null   float64\n",
            " 12  Target       2862 non-null   object \n",
            " 13  Summary      721 non-null    object \n",
            " 14  Group        2909 non-null   object \n",
            " 15  Target_type  2909 non-null   object \n",
            " 16  Weapon_type  2909 non-null   object \n",
            " 17  Motive       460 non-null    object \n",
            "dtypes: float64(4), int64(3), object(11)\n",
            "memory usage: 409.2+ KB\n"
          ]
        }
      ]
    },
    {
      "cell_type": "code",
      "source": [
        "#total number of missing values or cells with missing values in the entire dataframe\n",
        "missing_values = (data.isnull().sum()).sum()\n",
        "missing_values"
      ],
      "metadata": {
        "colab": {
          "base_uri": "https://localhost:8080/"
        },
        "id": "iJGBQOB16Zr-",
        "outputId": "25c25992-7691-4add-e745-7607570767b5"
      },
      "execution_count": null,
      "outputs": [
        {
          "output_type": "execute_result",
          "data": {
            "text/plain": [
              "1575691"
            ]
          },
          "metadata": {},
          "execution_count": 4
        }
      ]
    },
    {
      "cell_type": "code",
      "source": [
        "#total cells in the dataframe\n",
        "total_cells = data.size\n",
        "total_cells"
      ],
      "metadata": {
        "colab": {
          "base_uri": "https://localhost:8080/"
        },
        "id": "vNPo4zvR6dVa",
        "outputId": "b1fa8bc1-c8bb-4f0c-d23d-bc1b986459a1"
      },
      "execution_count": null,
      "outputs": [
        {
          "output_type": "execute_result",
          "data": {
            "text/plain": [
              "2547450"
            ]
          },
          "metadata": {},
          "execution_count": 5
        }
      ]
    },
    {
      "cell_type": "code",
      "source": [
        "#%of missing values in our dataframe 'data'\n",
        "(missing_values/total_cells)*100"
      ],
      "metadata": {
        "colab": {
          "base_uri": "https://localhost:8080/"
        },
        "id": "pAMoa27e6i9G",
        "outputId": "14ac95e8-8375-419b-bef9-c63097c9c80f"
      },
      "execution_count": null,
      "outputs": [
        {
          "output_type": "execute_result",
          "data": {
            "text/plain": [
              "61.85365757914778"
            ]
          },
          "metadata": {},
          "execution_count": 6
        }
      ]
    },
    {
      "cell_type": "code",
      "source": [
        "data.info"
      ],
      "metadata": {
        "colab": {
          "base_uri": "https://localhost:8080/"
        },
        "id": "cN5ADhQboYGT",
        "outputId": "4251d49f-2383-4479-ef82-2a377e12be71"
      },
      "execution_count": null,
      "outputs": [
        {
          "output_type": "execute_result",
          "data": {
            "text/plain": [
              "<bound method DataFrame.info of             eventid  iyear  imonth  iday approxdate  extended resolution  \\\n",
              "0      197000000001   1970       7     2        NaN         0        NaN   \n",
              "1      197000000002   1970       0     0        NaN         0        NaN   \n",
              "2      197001000001   1970       1     0        NaN         0        NaN   \n",
              "3      197001000002   1970       1     0        NaN         0        NaN   \n",
              "4      197001000003   1970       1     0        NaN         0        NaN   \n",
              "...             ...    ...     ...   ...        ...       ...        ...   \n",
              "41484  199002150007   1990       2    15        NaN         0        NaN   \n",
              "41485  199002150008   1990       2    15        NaN         0        NaN   \n",
              "41486  199002150009   1990       2    15        NaN         0        NaN   \n",
              "41487  199002150010   1990       2    15        NaN         0        NaN   \n",
              "41488  199002150011   1990       2    15        NaN         0        NaN   \n",
              "\n",
              "       country         country_txt  region  ... addnotes scite1 scite2  \\\n",
              "0           58  Dominican Republic       2  ...      NaN    NaN    NaN   \n",
              "1          130              Mexico       1  ...      NaN    NaN    NaN   \n",
              "2          160         Philippines       5  ...      NaN    NaN    NaN   \n",
              "3           78              Greece       8  ...      NaN    NaN    NaN   \n",
              "4          101               Japan       4  ...      NaN    NaN    NaN   \n",
              "...        ...                 ...     ...  ...      ...    ...    ...   \n",
              "41484       45            Colombia       3  ...      NaN    NaN    NaN   \n",
              "41485       45            Colombia       3  ...      NaN    NaN    NaN   \n",
              "41486       45            Colombia       3  ...      NaN    NaN    NaN   \n",
              "41487      159                Peru       3  ...      NaN    NaN    NaN   \n",
              "41488      159                Peru       3  ...      NaN    NaN    NaN   \n",
              "\n",
              "       scite3  dbsource  INT_LOG  INT_IDEO INT_MISC INT_ANY  related  \n",
              "0         NaN      PGIS      0.0       0.0      0.0     0.0      NaN  \n",
              "1         NaN      PGIS      0.0       1.0      1.0     1.0      NaN  \n",
              "2         NaN      PGIS     -9.0      -9.0      1.0     1.0      NaN  \n",
              "3         NaN      PGIS     -9.0      -9.0      1.0     1.0      NaN  \n",
              "4         NaN      PGIS     -9.0      -9.0      1.0     1.0      NaN  \n",
              "...       ...       ...      ...       ...      ...     ...      ...  \n",
              "41484     NaN      PGIS      0.0       1.0      1.0     1.0      NaN  \n",
              "41485     NaN      PGIS     -9.0      -9.0      0.0    -9.0      NaN  \n",
              "41486     NaN      PGIS     -9.0      -9.0      1.0     1.0      NaN  \n",
              "41487     NaN      PGIS      0.0       1.0      1.0     1.0      NaN  \n",
              "41488     NaN       NaN      NaN       NaN      NaN     NaN      NaN  \n",
              "\n",
              "[41489 rows x 135 columns]>"
            ]
          },
          "metadata": {},
          "execution_count": 17
        }
      ]
    },
    {
      "cell_type": "code",
      "source": [
        "# Checking for duplicated values\n",
        "data.duplicated().sum()"
      ],
      "metadata": {
        "colab": {
          "base_uri": "https://localhost:8080/"
        },
        "id": "0CAWtU45Jqfc",
        "outputId": "352b38bf-7ece-4629-af2b-fd38275f2a2f"
      },
      "execution_count": 6,
      "outputs": [
        {
          "output_type": "execute_result",
          "data": {
            "text/plain": [
              "0"
            ]
          },
          "metadata": {},
          "execution_count": 6
        }
      ]
    },
    {
      "cell_type": "code",
      "source": [
        "# Dropping Duplicated Values\n",
        "data.drop_duplicates(inplace=True)\n",
        "data.shape"
      ],
      "metadata": {
        "colab": {
          "base_uri": "https://localhost:8080/"
        },
        "id": "cfakPs1gJhPE",
        "outputId": "ebb49bab-f836-424a-9238-a0b1da7ed583"
      },
      "execution_count": 4,
      "outputs": [
        {
          "output_type": "execute_result",
          "data": {
            "text/plain": [
              "(1210, 135)"
            ]
          },
          "metadata": {},
          "execution_count": 4
        }
      ]
    },
    {
      "cell_type": "code",
      "source": [
        "## Checking for duplicated values\n",
        "data.duplicated().any()"
      ],
      "metadata": {
        "colab": {
          "base_uri": "https://localhost:8080/"
        },
        "id": "08a9tgCxJk8u",
        "outputId": "d9b899de-b957-424c-afb0-e534ad384009"
      },
      "execution_count": 5,
      "outputs": [
        {
          "output_type": "execute_result",
          "data": {
            "text/plain": [
              "False"
            ]
          },
          "metadata": {},
          "execution_count": 5
        }
      ]
    },
    {
      "cell_type": "code",
      "source": [
        "data.nunique()"
      ],
      "metadata": {
        "colab": {
          "base_uri": "https://localhost:8080/"
        },
        "id": "Wj68tCBxJoSm",
        "outputId": "3262ccca-21a2-46b7-9acc-4d3a126181c0"
      },
      "execution_count": 7,
      "outputs": [
        {
          "output_type": "execute_result",
          "data": {
            "text/plain": [
              "eventid       1210\n",
              "iyear            3\n",
              "imonth          13\n",
              "iday            32\n",
              "approxdate      11\n",
              "              ... \n",
              "INT_LOG          3\n",
              "INT_IDEO         3\n",
              "INT_MISC         3\n",
              "INT_ANY          3\n",
              "related         48\n",
              "Length: 135, dtype: int64"
            ]
          },
          "metadata": {},
          "execution_count": 7
        }
      ]
    },
    {
      "cell_type": "code",
      "source": [
        "# Checking for null values\n",
        "data.isna().sum().sort_values()"
      ],
      "metadata": {
        "colab": {
          "base_uri": "https://localhost:8080/"
        },
        "id": "WbH97ttLJzTw",
        "outputId": "30ceb4b0-e80c-4ac0-93bc-3fde7bb24a35"
      },
      "execution_count": 8,
      "outputs": [
        {
          "output_type": "execute_result",
          "data": {
            "text/plain": [
              "eventid              0\n",
              "region_txt           0\n",
              "region               0\n",
              "country_txt          0\n",
              "country              0\n",
              "                  ... \n",
              "claim3            1210\n",
              "claimmode2_txt    1210\n",
              "claimmode2        1210\n",
              "ransomamtus       1210\n",
              "guncertain3       1210\n",
              "Length: 135, dtype: int64"
            ]
          },
          "metadata": {},
          "execution_count": 8
        }
      ]
    },
    {
      "cell_type": "code",
      "source": [
        "# Resetting index\n",
        "data.reset_index(inplace=True,drop=True)\n",
        "data.head()"
      ],
      "metadata": {
        "colab": {
          "base_uri": "https://localhost:8080/",
          "height": 317
        },
        "id": "npa_PzG_J4Ui",
        "outputId": "7b825af5-dfc8-4e6a-ea22-0461f665e974"
      },
      "execution_count": 10,
      "outputs": [
        {
          "output_type": "execute_result",
          "data": {
            "text/plain": [
              "        eventid  iyear  imonth  iday approxdate  extended resolution  country  \\\n",
              "0  197000000001   1970       7     2        NaN         0        NaN       58   \n",
              "1  197000000002   1970       0     0        NaN         0        NaN      130   \n",
              "2  197001000001   1970       1     0        NaN         0        NaN      160   \n",
              "3  197001000002   1970       1     0        NaN         0        NaN       78   \n",
              "4  197001000003   1970       1     0        NaN         0        NaN      101   \n",
              "\n",
              "          country_txt  region  ... addnotes scite1 scite2  scite3  dbsource  \\\n",
              "0  Dominican Republic       2  ...      NaN    NaN    NaN     NaN      PGIS   \n",
              "1              Mexico       1  ...      NaN    NaN    NaN     NaN      PGIS   \n",
              "2         Philippines       5  ...      NaN    NaN    NaN     NaN      PGIS   \n",
              "3              Greece       8  ...      NaN    NaN    NaN     NaN      PGIS   \n",
              "4               Japan       4  ...      NaN    NaN    NaN     NaN      PGIS   \n",
              "\n",
              "   INT_LOG  INT_IDEO INT_MISC INT_ANY  related  \n",
              "0      0.0       0.0      0.0     0.0      NaN  \n",
              "1      0.0       1.0      1.0     1.0      NaN  \n",
              "2     -9.0      -9.0      1.0     1.0      NaN  \n",
              "3     -9.0      -9.0      1.0     1.0      NaN  \n",
              "4     -9.0      -9.0      1.0     1.0      NaN  \n",
              "\n",
              "[5 rows x 135 columns]"
            ],
            "text/html": [
              "\n",
              "  <div id=\"df-4b4b7173-dbe1-46a6-bddc-3ae786ec956a\">\n",
              "    <div class=\"colab-df-container\">\n",
              "      <div>\n",
              "<style scoped>\n",
              "    .dataframe tbody tr th:only-of-type {\n",
              "        vertical-align: middle;\n",
              "    }\n",
              "\n",
              "    .dataframe tbody tr th {\n",
              "        vertical-align: top;\n",
              "    }\n",
              "\n",
              "    .dataframe thead th {\n",
              "        text-align: right;\n",
              "    }\n",
              "</style>\n",
              "<table border=\"1\" class=\"dataframe\">\n",
              "  <thead>\n",
              "    <tr style=\"text-align: right;\">\n",
              "      <th></th>\n",
              "      <th>eventid</th>\n",
              "      <th>iyear</th>\n",
              "      <th>imonth</th>\n",
              "      <th>iday</th>\n",
              "      <th>approxdate</th>\n",
              "      <th>extended</th>\n",
              "      <th>resolution</th>\n",
              "      <th>country</th>\n",
              "      <th>country_txt</th>\n",
              "      <th>region</th>\n",
              "      <th>...</th>\n",
              "      <th>addnotes</th>\n",
              "      <th>scite1</th>\n",
              "      <th>scite2</th>\n",
              "      <th>scite3</th>\n",
              "      <th>dbsource</th>\n",
              "      <th>INT_LOG</th>\n",
              "      <th>INT_IDEO</th>\n",
              "      <th>INT_MISC</th>\n",
              "      <th>INT_ANY</th>\n",
              "      <th>related</th>\n",
              "    </tr>\n",
              "  </thead>\n",
              "  <tbody>\n",
              "    <tr>\n",
              "      <th>0</th>\n",
              "      <td>197000000001</td>\n",
              "      <td>1970</td>\n",
              "      <td>7</td>\n",
              "      <td>2</td>\n",
              "      <td>NaN</td>\n",
              "      <td>0</td>\n",
              "      <td>NaN</td>\n",
              "      <td>58</td>\n",
              "      <td>Dominican Republic</td>\n",
              "      <td>2</td>\n",
              "      <td>...</td>\n",
              "      <td>NaN</td>\n",
              "      <td>NaN</td>\n",
              "      <td>NaN</td>\n",
              "      <td>NaN</td>\n",
              "      <td>PGIS</td>\n",
              "      <td>0.0</td>\n",
              "      <td>0.0</td>\n",
              "      <td>0.0</td>\n",
              "      <td>0.0</td>\n",
              "      <td>NaN</td>\n",
              "    </tr>\n",
              "    <tr>\n",
              "      <th>1</th>\n",
              "      <td>197000000002</td>\n",
              "      <td>1970</td>\n",
              "      <td>0</td>\n",
              "      <td>0</td>\n",
              "      <td>NaN</td>\n",
              "      <td>0</td>\n",
              "      <td>NaN</td>\n",
              "      <td>130</td>\n",
              "      <td>Mexico</td>\n",
              "      <td>1</td>\n",
              "      <td>...</td>\n",
              "      <td>NaN</td>\n",
              "      <td>NaN</td>\n",
              "      <td>NaN</td>\n",
              "      <td>NaN</td>\n",
              "      <td>PGIS</td>\n",
              "      <td>0.0</td>\n",
              "      <td>1.0</td>\n",
              "      <td>1.0</td>\n",
              "      <td>1.0</td>\n",
              "      <td>NaN</td>\n",
              "    </tr>\n",
              "    <tr>\n",
              "      <th>2</th>\n",
              "      <td>197001000001</td>\n",
              "      <td>1970</td>\n",
              "      <td>1</td>\n",
              "      <td>0</td>\n",
              "      <td>NaN</td>\n",
              "      <td>0</td>\n",
              "      <td>NaN</td>\n",
              "      <td>160</td>\n",
              "      <td>Philippines</td>\n",
              "      <td>5</td>\n",
              "      <td>...</td>\n",
              "      <td>NaN</td>\n",
              "      <td>NaN</td>\n",
              "      <td>NaN</td>\n",
              "      <td>NaN</td>\n",
              "      <td>PGIS</td>\n",
              "      <td>-9.0</td>\n",
              "      <td>-9.0</td>\n",
              "      <td>1.0</td>\n",
              "      <td>1.0</td>\n",
              "      <td>NaN</td>\n",
              "    </tr>\n",
              "    <tr>\n",
              "      <th>3</th>\n",
              "      <td>197001000002</td>\n",
              "      <td>1970</td>\n",
              "      <td>1</td>\n",
              "      <td>0</td>\n",
              "      <td>NaN</td>\n",
              "      <td>0</td>\n",
              "      <td>NaN</td>\n",
              "      <td>78</td>\n",
              "      <td>Greece</td>\n",
              "      <td>8</td>\n",
              "      <td>...</td>\n",
              "      <td>NaN</td>\n",
              "      <td>NaN</td>\n",
              "      <td>NaN</td>\n",
              "      <td>NaN</td>\n",
              "      <td>PGIS</td>\n",
              "      <td>-9.0</td>\n",
              "      <td>-9.0</td>\n",
              "      <td>1.0</td>\n",
              "      <td>1.0</td>\n",
              "      <td>NaN</td>\n",
              "    </tr>\n",
              "    <tr>\n",
              "      <th>4</th>\n",
              "      <td>197001000003</td>\n",
              "      <td>1970</td>\n",
              "      <td>1</td>\n",
              "      <td>0</td>\n",
              "      <td>NaN</td>\n",
              "      <td>0</td>\n",
              "      <td>NaN</td>\n",
              "      <td>101</td>\n",
              "      <td>Japan</td>\n",
              "      <td>4</td>\n",
              "      <td>...</td>\n",
              "      <td>NaN</td>\n",
              "      <td>NaN</td>\n",
              "      <td>NaN</td>\n",
              "      <td>NaN</td>\n",
              "      <td>PGIS</td>\n",
              "      <td>-9.0</td>\n",
              "      <td>-9.0</td>\n",
              "      <td>1.0</td>\n",
              "      <td>1.0</td>\n",
              "      <td>NaN</td>\n",
              "    </tr>\n",
              "  </tbody>\n",
              "</table>\n",
              "<p>5 rows × 135 columns</p>\n",
              "</div>\n",
              "      <button class=\"colab-df-convert\" onclick=\"convertToInteractive('df-4b4b7173-dbe1-46a6-bddc-3ae786ec956a')\"\n",
              "              title=\"Convert this dataframe to an interactive table.\"\n",
              "              style=\"display:none;\">\n",
              "        \n",
              "  <svg xmlns=\"http://www.w3.org/2000/svg\" height=\"24px\"viewBox=\"0 0 24 24\"\n",
              "       width=\"24px\">\n",
              "    <path d=\"M0 0h24v24H0V0z\" fill=\"none\"/>\n",
              "    <path d=\"M18.56 5.44l.94 2.06.94-2.06 2.06-.94-2.06-.94-.94-2.06-.94 2.06-2.06.94zm-11 1L8.5 8.5l.94-2.06 2.06-.94-2.06-.94L8.5 2.5l-.94 2.06-2.06.94zm10 10l.94 2.06.94-2.06 2.06-.94-2.06-.94-.94-2.06-.94 2.06-2.06.94z\"/><path d=\"M17.41 7.96l-1.37-1.37c-.4-.4-.92-.59-1.43-.59-.52 0-1.04.2-1.43.59L10.3 9.45l-7.72 7.72c-.78.78-.78 2.05 0 2.83L4 21.41c.39.39.9.59 1.41.59.51 0 1.02-.2 1.41-.59l7.78-7.78 2.81-2.81c.8-.78.8-2.07 0-2.86zM5.41 20L4 18.59l7.72-7.72 1.47 1.35L5.41 20z\"/>\n",
              "  </svg>\n",
              "      </button>\n",
              "      \n",
              "  <style>\n",
              "    .colab-df-container {\n",
              "      display:flex;\n",
              "      flex-wrap:wrap;\n",
              "      gap: 12px;\n",
              "    }\n",
              "\n",
              "    .colab-df-convert {\n",
              "      background-color: #E8F0FE;\n",
              "      border: none;\n",
              "      border-radius: 50%;\n",
              "      cursor: pointer;\n",
              "      display: none;\n",
              "      fill: #1967D2;\n",
              "      height: 32px;\n",
              "      padding: 0 0 0 0;\n",
              "      width: 32px;\n",
              "    }\n",
              "\n",
              "    .colab-df-convert:hover {\n",
              "      background-color: #E2EBFA;\n",
              "      box-shadow: 0px 1px 2px rgba(60, 64, 67, 0.3), 0px 1px 3px 1px rgba(60, 64, 67, 0.15);\n",
              "      fill: #174EA6;\n",
              "    }\n",
              "\n",
              "    [theme=dark] .colab-df-convert {\n",
              "      background-color: #3B4455;\n",
              "      fill: #D2E3FC;\n",
              "    }\n",
              "\n",
              "    [theme=dark] .colab-df-convert:hover {\n",
              "      background-color: #434B5C;\n",
              "      box-shadow: 0px 1px 3px 1px rgba(0, 0, 0, 0.15);\n",
              "      filter: drop-shadow(0px 1px 2px rgba(0, 0, 0, 0.3));\n",
              "      fill: #FFFFFF;\n",
              "    }\n",
              "  </style>\n",
              "\n",
              "      <script>\n",
              "        const buttonEl =\n",
              "          document.querySelector('#df-4b4b7173-dbe1-46a6-bddc-3ae786ec956a button.colab-df-convert');\n",
              "        buttonEl.style.display =\n",
              "          google.colab.kernel.accessAllowed ? 'block' : 'none';\n",
              "\n",
              "        async function convertToInteractive(key) {\n",
              "          const element = document.querySelector('#df-4b4b7173-dbe1-46a6-bddc-3ae786ec956a');\n",
              "          const dataTable =\n",
              "            await google.colab.kernel.invokeFunction('convertToInteractive',\n",
              "                                                     [key], {});\n",
              "          if (!dataTable) return;\n",
              "\n",
              "          const docLinkHtml = 'Like what you see? Visit the ' +\n",
              "            '<a target=\"_blank\" href=https://colab.research.google.com/notebooks/data_table.ipynb>data table notebook</a>'\n",
              "            + ' to learn more about interactive tables.';\n",
              "          element.innerHTML = '';\n",
              "          dataTable['output_type'] = 'display_data';\n",
              "          await google.colab.output.renderOutput(dataTable, element);\n",
              "          const docLink = document.createElement('div');\n",
              "          docLink.innerHTML = docLinkHtml;\n",
              "          element.appendChild(docLink);\n",
              "        }\n",
              "      </script>\n",
              "    </div>\n",
              "  </div>\n",
              "  "
            ]
          },
          "metadata": {},
          "execution_count": 10
        }
      ]
    },
    {
      "cell_type": "code",
      "source": [
        "# showing Summary of Categorical Columns\n",
        "data.describe(include='O')"
      ],
      "metadata": {
        "colab": {
          "base_uri": "https://localhost:8080/",
          "height": 355
        },
        "id": "HIEiVWfYKKfQ",
        "outputId": "da1b8063-0267-45ec-f6af-37a136452574"
      },
      "execution_count": 11,
      "outputs": [
        {
          "output_type": "execute_result",
          "data": {
            "text/plain": [
              "             approxdate resolution    country_txt     region_txt   provstate  \\\n",
              "count                12         37           1210           1210        1208   \n",
              "unique               11         32             47             11         126   \n",
              "top     March 6-7, 1971  9/12/1970  United States  North America  California   \n",
              "freq                  2          3            740            744         220   \n",
              "\n",
              "                 city   location  \\\n",
              "count            1210        339   \n",
              "unique            342        221   \n",
              "top     New York City  Manhattan   \n",
              "freq              130         43   \n",
              "\n",
              "                                                  summary   alternative_txt  \\\n",
              "count                                                 542               232   \n",
              "unique                                                539                 3   \n",
              "top     2/23/1970: In a series of related attacks, unk...  Other Crime Type   \n",
              "freq                                                    4               128   \n",
              "\n",
              "          attacktype1_txt  ...   propcomment divert kidhijcountry  \\\n",
              "count                1209  ...           339     14            75   \n",
              "unique                  9  ...           298     11            31   \n",
              "top     Bombing/Explosion  ...  Minor damage  Libya       Uruguay   \n",
              "freq                  621  ...             9      3             9   \n",
              "\n",
              "                         hostkidoutcome_txt  \\\n",
              "count                                    57   \n",
              "unique                                    4   \n",
              "top     Hostage(s) released by perpetrators   \n",
              "freq                                     45   \n",
              "\n",
              "                                                 addnotes  \\\n",
              "count                                                 436   \n",
              "unique                                                423   \n",
              "top     This was one of many attacks against military ...   \n",
              "freq                                                    6   \n",
              "\n",
              "                                                   scite1  \\\n",
              "count                                                 542   \n",
              "unique                                                205   \n",
              "top     Committee on Government Operations United Stat...   \n",
              "freq                                                  205   \n",
              "\n",
              "                                                   scite2  \\\n",
              "count                                                 459   \n",
              "unique                                                259   \n",
              "top     Christopher Hewitt, \"Political Violence and Te...   \n",
              "freq                                                   64   \n",
              "\n",
              "                                                   scite3        dbsource  \\\n",
              "count                                                 292            1209   \n",
              "unique                                                161               9   \n",
              "top     Christopher Hewitt, \"Political Violence and Te...  Hewitt Project   \n",
              "freq                                                   39             539   \n",
              "\n",
              "                                                  related  \n",
              "count                                                 126  \n",
              "unique                                                 48  \n",
              "top     197201070001, 197201070002, 197201070003, 1972...  \n",
              "freq                                                    9  \n",
              "\n",
              "[4 rows x 49 columns]"
            ],
            "text/html": [
              "\n",
              "  <div id=\"df-5a3ecac0-c972-4b4e-a959-a72e0d3f8b61\">\n",
              "    <div class=\"colab-df-container\">\n",
              "      <div>\n",
              "<style scoped>\n",
              "    .dataframe tbody tr th:only-of-type {\n",
              "        vertical-align: middle;\n",
              "    }\n",
              "\n",
              "    .dataframe tbody tr th {\n",
              "        vertical-align: top;\n",
              "    }\n",
              "\n",
              "    .dataframe thead th {\n",
              "        text-align: right;\n",
              "    }\n",
              "</style>\n",
              "<table border=\"1\" class=\"dataframe\">\n",
              "  <thead>\n",
              "    <tr style=\"text-align: right;\">\n",
              "      <th></th>\n",
              "      <th>approxdate</th>\n",
              "      <th>resolution</th>\n",
              "      <th>country_txt</th>\n",
              "      <th>region_txt</th>\n",
              "      <th>provstate</th>\n",
              "      <th>city</th>\n",
              "      <th>location</th>\n",
              "      <th>summary</th>\n",
              "      <th>alternative_txt</th>\n",
              "      <th>attacktype1_txt</th>\n",
              "      <th>...</th>\n",
              "      <th>propcomment</th>\n",
              "      <th>divert</th>\n",
              "      <th>kidhijcountry</th>\n",
              "      <th>hostkidoutcome_txt</th>\n",
              "      <th>addnotes</th>\n",
              "      <th>scite1</th>\n",
              "      <th>scite2</th>\n",
              "      <th>scite3</th>\n",
              "      <th>dbsource</th>\n",
              "      <th>related</th>\n",
              "    </tr>\n",
              "  </thead>\n",
              "  <tbody>\n",
              "    <tr>\n",
              "      <th>count</th>\n",
              "      <td>12</td>\n",
              "      <td>37</td>\n",
              "      <td>1210</td>\n",
              "      <td>1210</td>\n",
              "      <td>1208</td>\n",
              "      <td>1210</td>\n",
              "      <td>339</td>\n",
              "      <td>542</td>\n",
              "      <td>232</td>\n",
              "      <td>1209</td>\n",
              "      <td>...</td>\n",
              "      <td>339</td>\n",
              "      <td>14</td>\n",
              "      <td>75</td>\n",
              "      <td>57</td>\n",
              "      <td>436</td>\n",
              "      <td>542</td>\n",
              "      <td>459</td>\n",
              "      <td>292</td>\n",
              "      <td>1209</td>\n",
              "      <td>126</td>\n",
              "    </tr>\n",
              "    <tr>\n",
              "      <th>unique</th>\n",
              "      <td>11</td>\n",
              "      <td>32</td>\n",
              "      <td>47</td>\n",
              "      <td>11</td>\n",
              "      <td>126</td>\n",
              "      <td>342</td>\n",
              "      <td>221</td>\n",
              "      <td>539</td>\n",
              "      <td>3</td>\n",
              "      <td>9</td>\n",
              "      <td>...</td>\n",
              "      <td>298</td>\n",
              "      <td>11</td>\n",
              "      <td>31</td>\n",
              "      <td>4</td>\n",
              "      <td>423</td>\n",
              "      <td>205</td>\n",
              "      <td>259</td>\n",
              "      <td>161</td>\n",
              "      <td>9</td>\n",
              "      <td>48</td>\n",
              "    </tr>\n",
              "    <tr>\n",
              "      <th>top</th>\n",
              "      <td>March 6-7, 1971</td>\n",
              "      <td>9/12/1970</td>\n",
              "      <td>United States</td>\n",
              "      <td>North America</td>\n",
              "      <td>California</td>\n",
              "      <td>New York City</td>\n",
              "      <td>Manhattan</td>\n",
              "      <td>2/23/1970: In a series of related attacks, unk...</td>\n",
              "      <td>Other Crime Type</td>\n",
              "      <td>Bombing/Explosion</td>\n",
              "      <td>...</td>\n",
              "      <td>Minor damage</td>\n",
              "      <td>Libya</td>\n",
              "      <td>Uruguay</td>\n",
              "      <td>Hostage(s) released by perpetrators</td>\n",
              "      <td>This was one of many attacks against military ...</td>\n",
              "      <td>Committee on Government Operations United Stat...</td>\n",
              "      <td>Christopher Hewitt, \"Political Violence and Te...</td>\n",
              "      <td>Christopher Hewitt, \"Political Violence and Te...</td>\n",
              "      <td>Hewitt Project</td>\n",
              "      <td>197201070001, 197201070002, 197201070003, 1972...</td>\n",
              "    </tr>\n",
              "    <tr>\n",
              "      <th>freq</th>\n",
              "      <td>2</td>\n",
              "      <td>3</td>\n",
              "      <td>740</td>\n",
              "      <td>744</td>\n",
              "      <td>220</td>\n",
              "      <td>130</td>\n",
              "      <td>43</td>\n",
              "      <td>4</td>\n",
              "      <td>128</td>\n",
              "      <td>621</td>\n",
              "      <td>...</td>\n",
              "      <td>9</td>\n",
              "      <td>3</td>\n",
              "      <td>9</td>\n",
              "      <td>45</td>\n",
              "      <td>6</td>\n",
              "      <td>205</td>\n",
              "      <td>64</td>\n",
              "      <td>39</td>\n",
              "      <td>539</td>\n",
              "      <td>9</td>\n",
              "    </tr>\n",
              "  </tbody>\n",
              "</table>\n",
              "<p>4 rows × 49 columns</p>\n",
              "</div>\n",
              "      <button class=\"colab-df-convert\" onclick=\"convertToInteractive('df-5a3ecac0-c972-4b4e-a959-a72e0d3f8b61')\"\n",
              "              title=\"Convert this dataframe to an interactive table.\"\n",
              "              style=\"display:none;\">\n",
              "        \n",
              "  <svg xmlns=\"http://www.w3.org/2000/svg\" height=\"24px\"viewBox=\"0 0 24 24\"\n",
              "       width=\"24px\">\n",
              "    <path d=\"M0 0h24v24H0V0z\" fill=\"none\"/>\n",
              "    <path d=\"M18.56 5.44l.94 2.06.94-2.06 2.06-.94-2.06-.94-.94-2.06-.94 2.06-2.06.94zm-11 1L8.5 8.5l.94-2.06 2.06-.94-2.06-.94L8.5 2.5l-.94 2.06-2.06.94zm10 10l.94 2.06.94-2.06 2.06-.94-2.06-.94-.94-2.06-.94 2.06-2.06.94z\"/><path d=\"M17.41 7.96l-1.37-1.37c-.4-.4-.92-.59-1.43-.59-.52 0-1.04.2-1.43.59L10.3 9.45l-7.72 7.72c-.78.78-.78 2.05 0 2.83L4 21.41c.39.39.9.59 1.41.59.51 0 1.02-.2 1.41-.59l7.78-7.78 2.81-2.81c.8-.78.8-2.07 0-2.86zM5.41 20L4 18.59l7.72-7.72 1.47 1.35L5.41 20z\"/>\n",
              "  </svg>\n",
              "      </button>\n",
              "      \n",
              "  <style>\n",
              "    .colab-df-container {\n",
              "      display:flex;\n",
              "      flex-wrap:wrap;\n",
              "      gap: 12px;\n",
              "    }\n",
              "\n",
              "    .colab-df-convert {\n",
              "      background-color: #E8F0FE;\n",
              "      border: none;\n",
              "      border-radius: 50%;\n",
              "      cursor: pointer;\n",
              "      display: none;\n",
              "      fill: #1967D2;\n",
              "      height: 32px;\n",
              "      padding: 0 0 0 0;\n",
              "      width: 32px;\n",
              "    }\n",
              "\n",
              "    .colab-df-convert:hover {\n",
              "      background-color: #E2EBFA;\n",
              "      box-shadow: 0px 1px 2px rgba(60, 64, 67, 0.3), 0px 1px 3px 1px rgba(60, 64, 67, 0.15);\n",
              "      fill: #174EA6;\n",
              "    }\n",
              "\n",
              "    [theme=dark] .colab-df-convert {\n",
              "      background-color: #3B4455;\n",
              "      fill: #D2E3FC;\n",
              "    }\n",
              "\n",
              "    [theme=dark] .colab-df-convert:hover {\n",
              "      background-color: #434B5C;\n",
              "      box-shadow: 0px 1px 3px 1px rgba(0, 0, 0, 0.15);\n",
              "      filter: drop-shadow(0px 1px 2px rgba(0, 0, 0, 0.3));\n",
              "      fill: #FFFFFF;\n",
              "    }\n",
              "  </style>\n",
              "\n",
              "      <script>\n",
              "        const buttonEl =\n",
              "          document.querySelector('#df-5a3ecac0-c972-4b4e-a959-a72e0d3f8b61 button.colab-df-convert');\n",
              "        buttonEl.style.display =\n",
              "          google.colab.kernel.accessAllowed ? 'block' : 'none';\n",
              "\n",
              "        async function convertToInteractive(key) {\n",
              "          const element = document.querySelector('#df-5a3ecac0-c972-4b4e-a959-a72e0d3f8b61');\n",
              "          const dataTable =\n",
              "            await google.colab.kernel.invokeFunction('convertToInteractive',\n",
              "                                                     [key], {});\n",
              "          if (!dataTable) return;\n",
              "\n",
              "          const docLinkHtml = 'Like what you see? Visit the ' +\n",
              "            '<a target=\"_blank\" href=https://colab.research.google.com/notebooks/data_table.ipynb>data table notebook</a>'\n",
              "            + ' to learn more about interactive tables.';\n",
              "          element.innerHTML = '';\n",
              "          dataTable['output_type'] = 'display_data';\n",
              "          await google.colab.output.renderOutput(dataTable, element);\n",
              "          const docLink = document.createElement('div');\n",
              "          docLink.innerHTML = docLinkHtml;\n",
              "          element.appendChild(docLink);\n",
              "        }\n",
              "      </script>\n",
              "    </div>\n",
              "  </div>\n",
              "  "
            ]
          },
          "metadata": {},
          "execution_count": 11
        }
      ]
    },
    {
      "cell_type": "markdown",
      "source": [
        "data preprocessing"
      ],
      "metadata": {
        "id": "7lCM9BRHonLr"
      }
    },
    {
      "cell_type": "code",
      "source": [
        "null_sum=(data.isnull().sum()/len(data))*100\n",
        "percent_null=null_sum.sort_values(ascending=False)\n",
        "type(percent_null)\n",
        "high_null_column=percent_null[percent_null>=50]\n",
        "less_than_50_null_column=percent_null[~percent_null.isin(high_null_column)]\n",
        "print(f'Number of column where null value less than fifty percent {len(less_than_50_null_column)}')\n",
        "less_null_column=less_than_50_null_column.index.to_list()\n",
        "print(less_null_column)"
      ],
      "metadata": {
        "colab": {
          "base_uri": "https://localhost:8080/"
        },
        "id": "HVxKfgviob0n",
        "outputId": "88b8f635-2c12-473f-ccab-02e9152ef45a"
      },
      "execution_count": null,
      "outputs": [
        {
          "output_type": "stream",
          "name": "stdout",
          "text": [
            "Number of column where null value less than fifty percent 16\n",
            "['Wounded', 'Killed', 'latitude', 'longitude', 'Target', 'state', 'Weapon_type', 'Target_type', 'Group', 'Year', 'Month', 'city', 'Region', 'Country', 'Day', 'AttackType']\n"
          ]
        }
      ]
    },
    {
      "cell_type": "code",
      "source": [
        "new_data=data[less_null_column]"
      ],
      "metadata": {
        "id": "XwQeHEN2otT4"
      },
      "execution_count": null,
      "outputs": []
    },
    {
      "cell_type": "code",
      "source": [
        "check=new_data.columns.to_list()"
      ],
      "metadata": {
        "id": "gEAWCx-1o9bN"
      },
      "execution_count": null,
      "outputs": []
    },
    {
      "cell_type": "code",
      "source": [
        "selected_columns_1=('eventid', 'iyear', 'imonth', 'iday','country_txt','region_txt','city','multiple', 'success', 'suicide',\n",
        " 'attacktype1_txt', 'targtype1_txt',  'targsubtype1_txt', 'corp1', 'target1', 'natlty1_txt', 'weaptype1_txt','nkill','nwoundus', 'claimed', )"
      ],
      "metadata": {
        "id": "73f8Lr_ypITy"
      },
      "execution_count": null,
      "outputs": []
    },
    {
      "cell_type": "code",
      "source": [
        "len(check)-len(selected_columns_1)"
      ],
      "metadata": {
        "colab": {
          "base_uri": "https://localhost:8080/"
        },
        "id": "tDNoaI3VpTvu",
        "outputId": "a2052ea6-bf9c-4917-ec76-655437e79a66"
      },
      "execution_count": null,
      "outputs": [
        {
          "output_type": "execute_result",
          "data": {
            "text/plain": [
              "29"
            ]
          },
          "metadata": {},
          "execution_count": 23
        }
      ]
    },
    {
      "cell_type": "code",
      "source": [
        "print(list((set(check)) - (set(selected_columns_1))))"
      ],
      "metadata": {
        "colab": {
          "base_uri": "https://localhost:8080/"
        },
        "id": "YZZVOuUCpXvb",
        "outputId": "8fd004fb-eff6-4cc9-ea29-d7151fcf55ab"
      },
      "execution_count": null,
      "outputs": [
        {
          "output_type": "stream",
          "name": "stdout",
          "text": [
            "['weapsubtype1', 'INT_MISC', 'natlty1', 'nwound', 'ransom', 'region', 'targtype1', 'attacktype1', 'weaptype1', 'targsubtype1', 'property', 'weapsubtype1_txt', 'specificity', 'vicinity', 'crit3', 'crit1', 'INT_ANY', 'ishostkid', 'extended', 'individual', 'provstate', 'INT_LOG', 'latitude', 'dbsource', 'doubtterr', 'longitude', 'crit2', 'guncertain1', 'gname', 'weapdetail', 'country', 'INT_IDEO']\n"
          ]
        }
      ]
    },
    {
      "cell_type": "code",
      "source": [
        "# There are a total of 135 columns. So, We need to extract the important one\n",
        "data.columns.values"
      ],
      "metadata": {
        "colab": {
          "base_uri": "https://localhost:8080/"
        },
        "id": "0AczN1hZ6xLf",
        "outputId": "fef97232-eee7-4a5a-9b34-38ed22262652"
      },
      "execution_count": null,
      "outputs": [
        {
          "output_type": "execute_result",
          "data": {
            "text/plain": [
              "array(['eventid', 'iyear', 'imonth', 'iday', 'approxdate', 'extended',\n",
              "       'resolution', 'country', 'country_txt', 'region', 'region_txt',\n",
              "       'provstate', 'city', 'latitude', 'longitude', 'specificity',\n",
              "       'vicinity', 'location', 'summary', 'crit1', 'crit2', 'crit3',\n",
              "       'doubtterr', 'alternative', 'alternative_txt', 'multiple',\n",
              "       'success', 'suicide', 'attacktype1', 'attacktype1_txt',\n",
              "       'attacktype2', 'attacktype2_txt', 'attacktype3', 'attacktype3_txt',\n",
              "       'targtype1', 'targtype1_txt', 'targsubtype1', 'targsubtype1_txt',\n",
              "       'corp1', 'target1', 'natlty1', 'natlty1_txt', 'targtype2',\n",
              "       'targtype2_txt', 'targsubtype2', 'targsubtype2_txt', 'corp2',\n",
              "       'target2', 'natlty2', 'natlty2_txt', 'targtype3', 'targtype3_txt',\n",
              "       'targsubtype3', 'targsubtype3_txt', 'corp3', 'target3', 'natlty3',\n",
              "       'natlty3_txt', 'gname', 'gsubname', 'gname2', 'gsubname2',\n",
              "       'gname3', 'gsubname3', 'motive', 'guncertain1', 'guncertain2',\n",
              "       'guncertain3', 'individual', 'nperps', 'nperpcap', 'claimed',\n",
              "       'claimmode', 'claimmode_txt', 'claim2', 'claimmode2',\n",
              "       'claimmode2_txt', 'claim3', 'claimmode3', 'claimmode3_txt',\n",
              "       'compclaim', 'weaptype1', 'weaptype1_txt', 'weapsubtype1',\n",
              "       'weapsubtype1_txt', 'weaptype2', 'weaptype2_txt', 'weapsubtype2',\n",
              "       'weapsubtype2_txt', 'weaptype3', 'weaptype3_txt', 'weapsubtype3',\n",
              "       'weapsubtype3_txt', 'weaptype4', 'weaptype4_txt', 'weapsubtype4',\n",
              "       'weapsubtype4_txt', 'weapdetail', 'nkill', 'nkillus', 'nkillter',\n",
              "       'nwound', 'nwoundus', 'nwoundte', 'property', 'propextent',\n",
              "       'propextent_txt', 'propvalue', 'propcomment', 'ishostkid',\n",
              "       'nhostkid', 'nhostkidus', 'nhours', 'ndays', 'divert',\n",
              "       'kidhijcountry', 'ransom', 'ransomamt', 'ransomamtus',\n",
              "       'ransompaid', 'ransompaidus', 'ransomnote', 'hostkidoutcome',\n",
              "       'hostkidoutcome_txt', 'nreleased', 'addnotes', 'scite1', 'scite2',\n",
              "       'scite3', 'dbsource', 'INT_LOG', 'INT_IDEO', 'INT_MISC', 'INT_ANY',\n",
              "       'related'], dtype=object)"
            ]
          },
          "metadata": {},
          "execution_count": 7
        }
      ]
    },
    {
      "cell_type": "code",
      "source": [
        "data.dropna(axis=1,how='all')"
      ],
      "metadata": {
        "colab": {
          "base_uri": "https://localhost:8080/",
          "height": 522
        },
        "id": "ZyCods7i7HJd",
        "outputId": "d6f0b7d6-aa20-4777-d8d5-891ccc3fe02a"
      },
      "execution_count": null,
      "outputs": [
        {
          "output_type": "execute_result",
          "data": {
            "text/plain": [
              "            eventid  iyear  imonth  iday approxdate  extended resolution  \\\n",
              "0      197000000001   1970       7     2        NaN         0        NaN   \n",
              "1      197000000002   1970       0     0        NaN         0        NaN   \n",
              "2      197001000001   1970       1     0        NaN         0        NaN   \n",
              "3      197001000002   1970       1     0        NaN         0        NaN   \n",
              "4      197001000003   1970       1     0        NaN         0        NaN   \n",
              "...             ...    ...     ...   ...        ...       ...        ...   \n",
              "18865  198305240006   1983       5    24        NaN         0        NaN   \n",
              "18866  198305240007   1983       5    24        NaN         0        NaN   \n",
              "18867  198305240008   1983       5    24        NaN         0        NaN   \n",
              "18868  198305240009   1983       5    24        NaN         0        NaN   \n",
              "18869  198305240010   1983       5    24        NaN         0        NaN   \n",
              "\n",
              "       country         country_txt  region  ... addnotes scite1 scite2  \\\n",
              "0           58  Dominican Republic       2  ...      NaN    NaN    NaN   \n",
              "1          130              Mexico       1  ...      NaN    NaN    NaN   \n",
              "2          160         Philippines       5  ...      NaN    NaN    NaN   \n",
              "3           78              Greece       8  ...      NaN    NaN    NaN   \n",
              "4          101               Japan       4  ...      NaN    NaN    NaN   \n",
              "...        ...                 ...     ...  ...      ...    ...    ...   \n",
              "18865       45            Colombia       3  ...      NaN    NaN    NaN   \n",
              "18866       45            Colombia       3  ...      NaN    NaN    NaN   \n",
              "18867      145           Nicaragua       2  ...      NaN    NaN    NaN   \n",
              "18868      145           Nicaragua       2  ...      NaN    NaN    NaN   \n",
              "18869      603      United Kingdom       8  ...      NaN    NaN    NaN   \n",
              "\n",
              "       scite3  dbsource  INT_LOG  INT_IDEO INT_MISC INT_ANY  related  \n",
              "0         NaN      PGIS      0.0       0.0      0.0     0.0      NaN  \n",
              "1         NaN      PGIS      0.0       1.0      1.0     1.0      NaN  \n",
              "2         NaN      PGIS     -9.0      -9.0      1.0     1.0      NaN  \n",
              "3         NaN      PGIS     -9.0      -9.0      1.0     1.0      NaN  \n",
              "4         NaN      PGIS     -9.0      -9.0      1.0     1.0      NaN  \n",
              "...       ...       ...      ...       ...      ...     ...      ...  \n",
              "18865     NaN      PGIS      0.0       0.0      0.0     0.0      NaN  \n",
              "18866     NaN      PGIS      0.0       0.0      0.0     0.0      NaN  \n",
              "18867     NaN      PGIS      0.0       0.0      0.0     0.0      NaN  \n",
              "18868     NaN      PGIS      0.0       0.0      0.0     0.0      NaN  \n",
              "18869     NaN       NaN      NaN       NaN      NaN     NaN      NaN  \n",
              "\n",
              "[18870 rows x 133 columns]"
            ],
            "text/html": [
              "\n",
              "  <div id=\"df-1984c75b-2dc2-4875-b0cf-5580e3662e64\">\n",
              "    <div class=\"colab-df-container\">\n",
              "      <div>\n",
              "<style scoped>\n",
              "    .dataframe tbody tr th:only-of-type {\n",
              "        vertical-align: middle;\n",
              "    }\n",
              "\n",
              "    .dataframe tbody tr th {\n",
              "        vertical-align: top;\n",
              "    }\n",
              "\n",
              "    .dataframe thead th {\n",
              "        text-align: right;\n",
              "    }\n",
              "</style>\n",
              "<table border=\"1\" class=\"dataframe\">\n",
              "  <thead>\n",
              "    <tr style=\"text-align: right;\">\n",
              "      <th></th>\n",
              "      <th>eventid</th>\n",
              "      <th>iyear</th>\n",
              "      <th>imonth</th>\n",
              "      <th>iday</th>\n",
              "      <th>approxdate</th>\n",
              "      <th>extended</th>\n",
              "      <th>resolution</th>\n",
              "      <th>country</th>\n",
              "      <th>country_txt</th>\n",
              "      <th>region</th>\n",
              "      <th>...</th>\n",
              "      <th>addnotes</th>\n",
              "      <th>scite1</th>\n",
              "      <th>scite2</th>\n",
              "      <th>scite3</th>\n",
              "      <th>dbsource</th>\n",
              "      <th>INT_LOG</th>\n",
              "      <th>INT_IDEO</th>\n",
              "      <th>INT_MISC</th>\n",
              "      <th>INT_ANY</th>\n",
              "      <th>related</th>\n",
              "    </tr>\n",
              "  </thead>\n",
              "  <tbody>\n",
              "    <tr>\n",
              "      <th>0</th>\n",
              "      <td>197000000001</td>\n",
              "      <td>1970</td>\n",
              "      <td>7</td>\n",
              "      <td>2</td>\n",
              "      <td>NaN</td>\n",
              "      <td>0</td>\n",
              "      <td>NaN</td>\n",
              "      <td>58</td>\n",
              "      <td>Dominican Republic</td>\n",
              "      <td>2</td>\n",
              "      <td>...</td>\n",
              "      <td>NaN</td>\n",
              "      <td>NaN</td>\n",
              "      <td>NaN</td>\n",
              "      <td>NaN</td>\n",
              "      <td>PGIS</td>\n",
              "      <td>0.0</td>\n",
              "      <td>0.0</td>\n",
              "      <td>0.0</td>\n",
              "      <td>0.0</td>\n",
              "      <td>NaN</td>\n",
              "    </tr>\n",
              "    <tr>\n",
              "      <th>1</th>\n",
              "      <td>197000000002</td>\n",
              "      <td>1970</td>\n",
              "      <td>0</td>\n",
              "      <td>0</td>\n",
              "      <td>NaN</td>\n",
              "      <td>0</td>\n",
              "      <td>NaN</td>\n",
              "      <td>130</td>\n",
              "      <td>Mexico</td>\n",
              "      <td>1</td>\n",
              "      <td>...</td>\n",
              "      <td>NaN</td>\n",
              "      <td>NaN</td>\n",
              "      <td>NaN</td>\n",
              "      <td>NaN</td>\n",
              "      <td>PGIS</td>\n",
              "      <td>0.0</td>\n",
              "      <td>1.0</td>\n",
              "      <td>1.0</td>\n",
              "      <td>1.0</td>\n",
              "      <td>NaN</td>\n",
              "    </tr>\n",
              "    <tr>\n",
              "      <th>2</th>\n",
              "      <td>197001000001</td>\n",
              "      <td>1970</td>\n",
              "      <td>1</td>\n",
              "      <td>0</td>\n",
              "      <td>NaN</td>\n",
              "      <td>0</td>\n",
              "      <td>NaN</td>\n",
              "      <td>160</td>\n",
              "      <td>Philippines</td>\n",
              "      <td>5</td>\n",
              "      <td>...</td>\n",
              "      <td>NaN</td>\n",
              "      <td>NaN</td>\n",
              "      <td>NaN</td>\n",
              "      <td>NaN</td>\n",
              "      <td>PGIS</td>\n",
              "      <td>-9.0</td>\n",
              "      <td>-9.0</td>\n",
              "      <td>1.0</td>\n",
              "      <td>1.0</td>\n",
              "      <td>NaN</td>\n",
              "    </tr>\n",
              "    <tr>\n",
              "      <th>3</th>\n",
              "      <td>197001000002</td>\n",
              "      <td>1970</td>\n",
              "      <td>1</td>\n",
              "      <td>0</td>\n",
              "      <td>NaN</td>\n",
              "      <td>0</td>\n",
              "      <td>NaN</td>\n",
              "      <td>78</td>\n",
              "      <td>Greece</td>\n",
              "      <td>8</td>\n",
              "      <td>...</td>\n",
              "      <td>NaN</td>\n",
              "      <td>NaN</td>\n",
              "      <td>NaN</td>\n",
              "      <td>NaN</td>\n",
              "      <td>PGIS</td>\n",
              "      <td>-9.0</td>\n",
              "      <td>-9.0</td>\n",
              "      <td>1.0</td>\n",
              "      <td>1.0</td>\n",
              "      <td>NaN</td>\n",
              "    </tr>\n",
              "    <tr>\n",
              "      <th>4</th>\n",
              "      <td>197001000003</td>\n",
              "      <td>1970</td>\n",
              "      <td>1</td>\n",
              "      <td>0</td>\n",
              "      <td>NaN</td>\n",
              "      <td>0</td>\n",
              "      <td>NaN</td>\n",
              "      <td>101</td>\n",
              "      <td>Japan</td>\n",
              "      <td>4</td>\n",
              "      <td>...</td>\n",
              "      <td>NaN</td>\n",
              "      <td>NaN</td>\n",
              "      <td>NaN</td>\n",
              "      <td>NaN</td>\n",
              "      <td>PGIS</td>\n",
              "      <td>-9.0</td>\n",
              "      <td>-9.0</td>\n",
              "      <td>1.0</td>\n",
              "      <td>1.0</td>\n",
              "      <td>NaN</td>\n",
              "    </tr>\n",
              "    <tr>\n",
              "      <th>...</th>\n",
              "      <td>...</td>\n",
              "      <td>...</td>\n",
              "      <td>...</td>\n",
              "      <td>...</td>\n",
              "      <td>...</td>\n",
              "      <td>...</td>\n",
              "      <td>...</td>\n",
              "      <td>...</td>\n",
              "      <td>...</td>\n",
              "      <td>...</td>\n",
              "      <td>...</td>\n",
              "      <td>...</td>\n",
              "      <td>...</td>\n",
              "      <td>...</td>\n",
              "      <td>...</td>\n",
              "      <td>...</td>\n",
              "      <td>...</td>\n",
              "      <td>...</td>\n",
              "      <td>...</td>\n",
              "      <td>...</td>\n",
              "      <td>...</td>\n",
              "    </tr>\n",
              "    <tr>\n",
              "      <th>18865</th>\n",
              "      <td>198305240006</td>\n",
              "      <td>1983</td>\n",
              "      <td>5</td>\n",
              "      <td>24</td>\n",
              "      <td>NaN</td>\n",
              "      <td>0</td>\n",
              "      <td>NaN</td>\n",
              "      <td>45</td>\n",
              "      <td>Colombia</td>\n",
              "      <td>3</td>\n",
              "      <td>...</td>\n",
              "      <td>NaN</td>\n",
              "      <td>NaN</td>\n",
              "      <td>NaN</td>\n",
              "      <td>NaN</td>\n",
              "      <td>PGIS</td>\n",
              "      <td>0.0</td>\n",
              "      <td>0.0</td>\n",
              "      <td>0.0</td>\n",
              "      <td>0.0</td>\n",
              "      <td>NaN</td>\n",
              "    </tr>\n",
              "    <tr>\n",
              "      <th>18866</th>\n",
              "      <td>198305240007</td>\n",
              "      <td>1983</td>\n",
              "      <td>5</td>\n",
              "      <td>24</td>\n",
              "      <td>NaN</td>\n",
              "      <td>0</td>\n",
              "      <td>NaN</td>\n",
              "      <td>45</td>\n",
              "      <td>Colombia</td>\n",
              "      <td>3</td>\n",
              "      <td>...</td>\n",
              "      <td>NaN</td>\n",
              "      <td>NaN</td>\n",
              "      <td>NaN</td>\n",
              "      <td>NaN</td>\n",
              "      <td>PGIS</td>\n",
              "      <td>0.0</td>\n",
              "      <td>0.0</td>\n",
              "      <td>0.0</td>\n",
              "      <td>0.0</td>\n",
              "      <td>NaN</td>\n",
              "    </tr>\n",
              "    <tr>\n",
              "      <th>18867</th>\n",
              "      <td>198305240008</td>\n",
              "      <td>1983</td>\n",
              "      <td>5</td>\n",
              "      <td>24</td>\n",
              "      <td>NaN</td>\n",
              "      <td>0</td>\n",
              "      <td>NaN</td>\n",
              "      <td>145</td>\n",
              "      <td>Nicaragua</td>\n",
              "      <td>2</td>\n",
              "      <td>...</td>\n",
              "      <td>NaN</td>\n",
              "      <td>NaN</td>\n",
              "      <td>NaN</td>\n",
              "      <td>NaN</td>\n",
              "      <td>PGIS</td>\n",
              "      <td>0.0</td>\n",
              "      <td>0.0</td>\n",
              "      <td>0.0</td>\n",
              "      <td>0.0</td>\n",
              "      <td>NaN</td>\n",
              "    </tr>\n",
              "    <tr>\n",
              "      <th>18868</th>\n",
              "      <td>198305240009</td>\n",
              "      <td>1983</td>\n",
              "      <td>5</td>\n",
              "      <td>24</td>\n",
              "      <td>NaN</td>\n",
              "      <td>0</td>\n",
              "      <td>NaN</td>\n",
              "      <td>145</td>\n",
              "      <td>Nicaragua</td>\n",
              "      <td>2</td>\n",
              "      <td>...</td>\n",
              "      <td>NaN</td>\n",
              "      <td>NaN</td>\n",
              "      <td>NaN</td>\n",
              "      <td>NaN</td>\n",
              "      <td>PGIS</td>\n",
              "      <td>0.0</td>\n",
              "      <td>0.0</td>\n",
              "      <td>0.0</td>\n",
              "      <td>0.0</td>\n",
              "      <td>NaN</td>\n",
              "    </tr>\n",
              "    <tr>\n",
              "      <th>18869</th>\n",
              "      <td>198305240010</td>\n",
              "      <td>1983</td>\n",
              "      <td>5</td>\n",
              "      <td>24</td>\n",
              "      <td>NaN</td>\n",
              "      <td>0</td>\n",
              "      <td>NaN</td>\n",
              "      <td>603</td>\n",
              "      <td>United Kingdom</td>\n",
              "      <td>8</td>\n",
              "      <td>...</td>\n",
              "      <td>NaN</td>\n",
              "      <td>NaN</td>\n",
              "      <td>NaN</td>\n",
              "      <td>NaN</td>\n",
              "      <td>NaN</td>\n",
              "      <td>NaN</td>\n",
              "      <td>NaN</td>\n",
              "      <td>NaN</td>\n",
              "      <td>NaN</td>\n",
              "      <td>NaN</td>\n",
              "    </tr>\n",
              "  </tbody>\n",
              "</table>\n",
              "<p>18870 rows × 133 columns</p>\n",
              "</div>\n",
              "      <button class=\"colab-df-convert\" onclick=\"convertToInteractive('df-1984c75b-2dc2-4875-b0cf-5580e3662e64')\"\n",
              "              title=\"Convert this dataframe to an interactive table.\"\n",
              "              style=\"display:none;\">\n",
              "        \n",
              "  <svg xmlns=\"http://www.w3.org/2000/svg\" height=\"24px\"viewBox=\"0 0 24 24\"\n",
              "       width=\"24px\">\n",
              "    <path d=\"M0 0h24v24H0V0z\" fill=\"none\"/>\n",
              "    <path d=\"M18.56 5.44l.94 2.06.94-2.06 2.06-.94-2.06-.94-.94-2.06-.94 2.06-2.06.94zm-11 1L8.5 8.5l.94-2.06 2.06-.94-2.06-.94L8.5 2.5l-.94 2.06-2.06.94zm10 10l.94 2.06.94-2.06 2.06-.94-2.06-.94-.94-2.06-.94 2.06-2.06.94z\"/><path d=\"M17.41 7.96l-1.37-1.37c-.4-.4-.92-.59-1.43-.59-.52 0-1.04.2-1.43.59L10.3 9.45l-7.72 7.72c-.78.78-.78 2.05 0 2.83L4 21.41c.39.39.9.59 1.41.59.51 0 1.02-.2 1.41-.59l7.78-7.78 2.81-2.81c.8-.78.8-2.07 0-2.86zM5.41 20L4 18.59l7.72-7.72 1.47 1.35L5.41 20z\"/>\n",
              "  </svg>\n",
              "      </button>\n",
              "      \n",
              "  <style>\n",
              "    .colab-df-container {\n",
              "      display:flex;\n",
              "      flex-wrap:wrap;\n",
              "      gap: 12px;\n",
              "    }\n",
              "\n",
              "    .colab-df-convert {\n",
              "      background-color: #E8F0FE;\n",
              "      border: none;\n",
              "      border-radius: 50%;\n",
              "      cursor: pointer;\n",
              "      display: none;\n",
              "      fill: #1967D2;\n",
              "      height: 32px;\n",
              "      padding: 0 0 0 0;\n",
              "      width: 32px;\n",
              "    }\n",
              "\n",
              "    .colab-df-convert:hover {\n",
              "      background-color: #E2EBFA;\n",
              "      box-shadow: 0px 1px 2px rgba(60, 64, 67, 0.3), 0px 1px 3px 1px rgba(60, 64, 67, 0.15);\n",
              "      fill: #174EA6;\n",
              "    }\n",
              "\n",
              "    [theme=dark] .colab-df-convert {\n",
              "      background-color: #3B4455;\n",
              "      fill: #D2E3FC;\n",
              "    }\n",
              "\n",
              "    [theme=dark] .colab-df-convert:hover {\n",
              "      background-color: #434B5C;\n",
              "      box-shadow: 0px 1px 3px 1px rgba(0, 0, 0, 0.15);\n",
              "      filter: drop-shadow(0px 1px 2px rgba(0, 0, 0, 0.3));\n",
              "      fill: #FFFFFF;\n",
              "    }\n",
              "  </style>\n",
              "\n",
              "      <script>\n",
              "        const buttonEl =\n",
              "          document.querySelector('#df-1984c75b-2dc2-4875-b0cf-5580e3662e64 button.colab-df-convert');\n",
              "        buttonEl.style.display =\n",
              "          google.colab.kernel.accessAllowed ? 'block' : 'none';\n",
              "\n",
              "        async function convertToInteractive(key) {\n",
              "          const element = document.querySelector('#df-1984c75b-2dc2-4875-b0cf-5580e3662e64');\n",
              "          const dataTable =\n",
              "            await google.colab.kernel.invokeFunction('convertToInteractive',\n",
              "                                                     [key], {});\n",
              "          if (!dataTable) return;\n",
              "\n",
              "          const docLinkHtml = 'Like what you see? Visit the ' +\n",
              "            '<a target=\"_blank\" href=https://colab.research.google.com/notebooks/data_table.ipynb>data table notebook</a>'\n",
              "            + ' to learn more about interactive tables.';\n",
              "          element.innerHTML = '';\n",
              "          dataTable['output_type'] = 'display_data';\n",
              "          await google.colab.output.renderOutput(dataTable, element);\n",
              "          const docLink = document.createElement('div');\n",
              "          docLink.innerHTML = docLinkHtml;\n",
              "          element.appendChild(docLink);\n",
              "        }\n",
              "      </script>\n",
              "    </div>\n",
              "  </div>\n",
              "  "
            ]
          },
          "metadata": {},
          "execution_count": 8
        }
      ]
    },
    {
      "cell_type": "code",
      "source": [
        "data = data[['iyear','imonth','iday','country_txt','region_txt','provstate','city','success',\n",
        "          'attacktype1_txt','targtype1_txt','target1','nkill','nwound','summary','gname','weaptype1_txt','motive']]"
      ],
      "metadata": {
        "id": "AGK8Xbom7Ln3"
      },
      "execution_count": null,
      "outputs": []
    },
    {
      "cell_type": "code",
      "source": [
        "data.rename(columns={'iyear':'Year','imonth':'Month','iday':'Day','country_txt':'Country','provstate':'State',\n",
        "                   'city':'City','success':'Success','region_txt':'Region','attacktype1_txt':'Attacktype',\n",
        "                   'target1':'Target','nkill':'Killed','nwound':'Wounded','summary':'Summary','gname':'Group',\n",
        "                   'targtype1_txt':'Target_type','weaptype1_txt':'Weapon_type','motive':'Motive'},inplace=True)"
      ],
      "metadata": {
        "id": "vajoxlDd7WqP"
      },
      "execution_count": null,
      "outputs": []
    },
    {
      "cell_type": "code",
      "source": [
        "data.head"
      ],
      "metadata": {
        "colab": {
          "base_uri": "https://localhost:8080/"
        },
        "id": "Yy9Esyh58psn",
        "outputId": "ff7d6fe2-a1d8-4eb7-f553-7dcb2d027e4c"
      },
      "execution_count": null,
      "outputs": [
        {
          "output_type": "execute_result",
          "data": {
            "text/plain": [
              "<bound method NDFrame.head of        Year  Month  Day             Country                       Region  \\\n",
              "0      1970      7    2  Dominican Republic  Central America & Caribbean   \n",
              "1      1970      0    0              Mexico                North America   \n",
              "2      1970      1    0         Philippines               Southeast Asia   \n",
              "3      1970      1    0              Greece               Western Europe   \n",
              "4      1970      1    0               Japan                    East Asia   \n",
              "...     ...    ...  ...                 ...                          ...   \n",
              "18865  1983      5   24            Colombia                South America   \n",
              "18866  1983      5   24            Colombia                South America   \n",
              "18867  1983      5   24           Nicaragua  Central America & Caribbean   \n",
              "18868  1983      5   24           Nicaragua  Central America & Caribbean   \n",
              "18869  1983      5   24      United Kingdom               Western Europe   \n",
              "\n",
              "                  State             City  Success  \\\n",
              "0                   NaN    Santo Domingo        1   \n",
              "1               Federal      Mexico city        1   \n",
              "2                Tarlac          Unknown        1   \n",
              "3                Attica           Athens        1   \n",
              "4               Fukouka          Fukouka        1   \n",
              "...                 ...              ...      ...   \n",
              "18865         Santander  Vuelta de Acuna        1   \n",
              "18866   Valle del Cauca          Palmira        1   \n",
              "18867         Chontales          Bartola        1   \n",
              "18868     Nueva Segovia           Jalapa        1   \n",
              "18869  Northern Ireland         Camlough        1   \n",
              "\n",
              "                           Attacktype                  Target_type  \\\n",
              "0                       Assassination  Private Citizens & Property   \n",
              "1         Hostage Taking (Kidnapping)      Government (Diplomatic)   \n",
              "2                       Assassination          Journalists & Media   \n",
              "3                   Bombing/Explosion      Government (Diplomatic)   \n",
              "4      Facility/Infrastructure Attack      Government (Diplomatic)   \n",
              "...                               ...                          ...   \n",
              "18865                   Armed Assault                     Military   \n",
              "18866                         Unknown  Private Citizens & Property   \n",
              "18867                   Armed Assault                     Military   \n",
              "18868                   Armed Assault                     Military   \n",
              "18869               Bombing/Explosion                       Police   \n",
              "\n",
              "                                     Target  Killed  Wounded Summary  \\\n",
              "0                              Julio Guzman     1.0      0.0     NaN   \n",
              "1                   Nadine Chaval, daughter     0.0      0.0     NaN   \n",
              "2                                  Employee     1.0      0.0     NaN   \n",
              "3                              U.S. Embassy     NaN      NaN     NaN   \n",
              "4                            U.S. Consulate     NaN      NaN     NaN   \n",
              "...                                     ...     ...      ...     ...   \n",
              "18865                         Military Unit     4.0      0.0     NaN   \n",
              "18866                    Village of Palmira     0.0      0.0     NaN   \n",
              "18867                         Military Unit     NaN      NaN     NaN   \n",
              "18868                         Military Unit     6.0      NaN     NaN   \n",
              "18869  Royal Ulster Constabulary Patrol Car     NaN      2.0     NaN   \n",
              "\n",
              "                                               Group Weapon_type Motive  \n",
              "0                                             MANO-D     Unknown    NaN  \n",
              "1                 23rd of September Communist League     Unknown    NaN  \n",
              "2                                            Unknown     Unknown    NaN  \n",
              "3                                            Unknown  Explosives    NaN  \n",
              "4                                            Unknown  Incendiary    NaN  \n",
              "...                                              ...         ...    ...  \n",
              "18865  Revolutionary Armed Forces of Colombia (FARC)    Firearms    NaN  \n",
              "18866  Revolutionary Armed Forces of Colombia (FARC)     Unknown    NaN  \n",
              "18867       Democratic Revolutionary Alliance (ARDE)    Firearms    NaN  \n",
              "18868              Nicaraguan Democratic Force (FDN)    Firearms    NaN  \n",
              "18869                    Irish Republican Army (IRA)  Explosives    NaN  \n",
              "\n",
              "[18870 rows x 17 columns]>"
            ]
          },
          "metadata": {},
          "execution_count": 12
        }
      ]
    },
    {
      "cell_type": "code",
      "source": [
        "data['State'] = data['State'].fillna('Unknown')\n",
        "data['City'] = data['City'].fillna('Unknown')"
      ],
      "metadata": {
        "id": "4zjrssNs8upl"
      },
      "execution_count": null,
      "outputs": []
    },
    {
      "cell_type": "code",
      "source": [
        "data['Wounded'] = data['Wounded'].fillna(0).astype(int)\n",
        "data['Killed'] = data['Killed'].fillna(0).astype(int)\n",
        "data.describe()"
      ],
      "metadata": {
        "colab": {
          "base_uri": "https://localhost:8080/",
          "height": 300
        },
        "id": "EtcDu5I_9FJi",
        "outputId": "36a774dd-8568-4f2e-c77b-676bec97e797"
      },
      "execution_count": null,
      "outputs": [
        {
          "output_type": "execute_result",
          "data": {
            "text/plain": [
              "               Year         Month           Day       Success        Killed  \\\n",
              "count  18870.000000  18870.000000  18870.000000  18870.000000  18870.000000   \n",
              "mean    1978.517011      6.198781     15.206465      0.909963      1.360201   \n",
              "std        3.409654      3.448318      8.955007      0.286242      6.792179   \n",
              "min     1970.000000      0.000000      0.000000      0.000000      0.000000   \n",
              "25%     1977.000000      3.000000      8.000000      1.000000      0.000000   \n",
              "50%     1979.000000      6.000000     15.000000      1.000000      0.000000   \n",
              "75%     1981.000000      9.000000     23.000000      1.000000      1.000000   \n",
              "max     1986.000000     12.000000     31.000000      1.000000    422.000000   \n",
              "\n",
              "            Wounded  \n",
              "count  18870.000000  \n",
              "mean       1.042819  \n",
              "std        8.777369  \n",
              "min        0.000000  \n",
              "25%        0.000000  \n",
              "50%        0.000000  \n",
              "75%        0.000000  \n",
              "max      700.000000  "
            ],
            "text/html": [
              "\n",
              "  <div id=\"df-05f867f4-b1ed-4f89-964b-c2edf5c7365e\">\n",
              "    <div class=\"colab-df-container\">\n",
              "      <div>\n",
              "<style scoped>\n",
              "    .dataframe tbody tr th:only-of-type {\n",
              "        vertical-align: middle;\n",
              "    }\n",
              "\n",
              "    .dataframe tbody tr th {\n",
              "        vertical-align: top;\n",
              "    }\n",
              "\n",
              "    .dataframe thead th {\n",
              "        text-align: right;\n",
              "    }\n",
              "</style>\n",
              "<table border=\"1\" class=\"dataframe\">\n",
              "  <thead>\n",
              "    <tr style=\"text-align: right;\">\n",
              "      <th></th>\n",
              "      <th>Year</th>\n",
              "      <th>Month</th>\n",
              "      <th>Day</th>\n",
              "      <th>Success</th>\n",
              "      <th>Killed</th>\n",
              "      <th>Wounded</th>\n",
              "    </tr>\n",
              "  </thead>\n",
              "  <tbody>\n",
              "    <tr>\n",
              "      <th>count</th>\n",
              "      <td>18870.000000</td>\n",
              "      <td>18870.000000</td>\n",
              "      <td>18870.000000</td>\n",
              "      <td>18870.000000</td>\n",
              "      <td>18870.000000</td>\n",
              "      <td>18870.000000</td>\n",
              "    </tr>\n",
              "    <tr>\n",
              "      <th>mean</th>\n",
              "      <td>1978.517011</td>\n",
              "      <td>6.198781</td>\n",
              "      <td>15.206465</td>\n",
              "      <td>0.909963</td>\n",
              "      <td>1.360201</td>\n",
              "      <td>1.042819</td>\n",
              "    </tr>\n",
              "    <tr>\n",
              "      <th>std</th>\n",
              "      <td>3.409654</td>\n",
              "      <td>3.448318</td>\n",
              "      <td>8.955007</td>\n",
              "      <td>0.286242</td>\n",
              "      <td>6.792179</td>\n",
              "      <td>8.777369</td>\n",
              "    </tr>\n",
              "    <tr>\n",
              "      <th>min</th>\n",
              "      <td>1970.000000</td>\n",
              "      <td>0.000000</td>\n",
              "      <td>0.000000</td>\n",
              "      <td>0.000000</td>\n",
              "      <td>0.000000</td>\n",
              "      <td>0.000000</td>\n",
              "    </tr>\n",
              "    <tr>\n",
              "      <th>25%</th>\n",
              "      <td>1977.000000</td>\n",
              "      <td>3.000000</td>\n",
              "      <td>8.000000</td>\n",
              "      <td>1.000000</td>\n",
              "      <td>0.000000</td>\n",
              "      <td>0.000000</td>\n",
              "    </tr>\n",
              "    <tr>\n",
              "      <th>50%</th>\n",
              "      <td>1979.000000</td>\n",
              "      <td>6.000000</td>\n",
              "      <td>15.000000</td>\n",
              "      <td>1.000000</td>\n",
              "      <td>0.000000</td>\n",
              "      <td>0.000000</td>\n",
              "    </tr>\n",
              "    <tr>\n",
              "      <th>75%</th>\n",
              "      <td>1981.000000</td>\n",
              "      <td>9.000000</td>\n",
              "      <td>23.000000</td>\n",
              "      <td>1.000000</td>\n",
              "      <td>1.000000</td>\n",
              "      <td>0.000000</td>\n",
              "    </tr>\n",
              "    <tr>\n",
              "      <th>max</th>\n",
              "      <td>1986.000000</td>\n",
              "      <td>12.000000</td>\n",
              "      <td>31.000000</td>\n",
              "      <td>1.000000</td>\n",
              "      <td>422.000000</td>\n",
              "      <td>700.000000</td>\n",
              "    </tr>\n",
              "  </tbody>\n",
              "</table>\n",
              "</div>\n",
              "      <button class=\"colab-df-convert\" onclick=\"convertToInteractive('df-05f867f4-b1ed-4f89-964b-c2edf5c7365e')\"\n",
              "              title=\"Convert this dataframe to an interactive table.\"\n",
              "              style=\"display:none;\">\n",
              "        \n",
              "  <svg xmlns=\"http://www.w3.org/2000/svg\" height=\"24px\"viewBox=\"0 0 24 24\"\n",
              "       width=\"24px\">\n",
              "    <path d=\"M0 0h24v24H0V0z\" fill=\"none\"/>\n",
              "    <path d=\"M18.56 5.44l.94 2.06.94-2.06 2.06-.94-2.06-.94-.94-2.06-.94 2.06-2.06.94zm-11 1L8.5 8.5l.94-2.06 2.06-.94-2.06-.94L8.5 2.5l-.94 2.06-2.06.94zm10 10l.94 2.06.94-2.06 2.06-.94-2.06-.94-.94-2.06-.94 2.06-2.06.94z\"/><path d=\"M17.41 7.96l-1.37-1.37c-.4-.4-.92-.59-1.43-.59-.52 0-1.04.2-1.43.59L10.3 9.45l-7.72 7.72c-.78.78-.78 2.05 0 2.83L4 21.41c.39.39.9.59 1.41.59.51 0 1.02-.2 1.41-.59l7.78-7.78 2.81-2.81c.8-.78.8-2.07 0-2.86zM5.41 20L4 18.59l7.72-7.72 1.47 1.35L5.41 20z\"/>\n",
              "  </svg>\n",
              "      </button>\n",
              "      \n",
              "  <style>\n",
              "    .colab-df-container {\n",
              "      display:flex;\n",
              "      flex-wrap:wrap;\n",
              "      gap: 12px;\n",
              "    }\n",
              "\n",
              "    .colab-df-convert {\n",
              "      background-color: #E8F0FE;\n",
              "      border: none;\n",
              "      border-radius: 50%;\n",
              "      cursor: pointer;\n",
              "      display: none;\n",
              "      fill: #1967D2;\n",
              "      height: 32px;\n",
              "      padding: 0 0 0 0;\n",
              "      width: 32px;\n",
              "    }\n",
              "\n",
              "    .colab-df-convert:hover {\n",
              "      background-color: #E2EBFA;\n",
              "      box-shadow: 0px 1px 2px rgba(60, 64, 67, 0.3), 0px 1px 3px 1px rgba(60, 64, 67, 0.15);\n",
              "      fill: #174EA6;\n",
              "    }\n",
              "\n",
              "    [theme=dark] .colab-df-convert {\n",
              "      background-color: #3B4455;\n",
              "      fill: #D2E3FC;\n",
              "    }\n",
              "\n",
              "    [theme=dark] .colab-df-convert:hover {\n",
              "      background-color: #434B5C;\n",
              "      box-shadow: 0px 1px 3px 1px rgba(0, 0, 0, 0.15);\n",
              "      filter: drop-shadow(0px 1px 2px rgba(0, 0, 0, 0.3));\n",
              "      fill: #FFFFFF;\n",
              "    }\n",
              "  </style>\n",
              "\n",
              "      <script>\n",
              "        const buttonEl =\n",
              "          document.querySelector('#df-05f867f4-b1ed-4f89-964b-c2edf5c7365e button.colab-df-convert');\n",
              "        buttonEl.style.display =\n",
              "          google.colab.kernel.accessAllowed ? 'block' : 'none';\n",
              "\n",
              "        async function convertToInteractive(key) {\n",
              "          const element = document.querySelector('#df-05f867f4-b1ed-4f89-964b-c2edf5c7365e');\n",
              "          const dataTable =\n",
              "            await google.colab.kernel.invokeFunction('convertToInteractive',\n",
              "                                                     [key], {});\n",
              "          if (!dataTable) return;\n",
              "\n",
              "          const docLinkHtml = 'Like what you see? Visit the ' +\n",
              "            '<a target=\"_blank\" href=https://colab.research.google.com/notebooks/data_table.ipynb>data table notebook</a>'\n",
              "            + ' to learn more about interactive tables.';\n",
              "          element.innerHTML = '';\n",
              "          dataTable['output_type'] = 'display_data';\n",
              "          await google.colab.output.renderOutput(dataTable, element);\n",
              "          const docLink = document.createElement('div');\n",
              "          docLink.innerHTML = docLinkHtml;\n",
              "          element.appendChild(docLink);\n",
              "        }\n",
              "      </script>\n",
              "    </div>\n",
              "  </div>\n",
              "  "
            ]
          },
          "metadata": {},
          "execution_count": 14
        }
      ]
    },
    {
      "cell_type": "code",
      "source": [
        "data.info()"
      ],
      "metadata": {
        "colab": {
          "base_uri": "https://localhost:8080/"
        },
        "id": "Tbvf3ecI9O8Q",
        "outputId": "5d0ca482-55ec-401a-e3e7-c484a4b3bc38"
      },
      "execution_count": null,
      "outputs": [
        {
          "output_type": "stream",
          "name": "stdout",
          "text": [
            "<class 'pandas.core.frame.DataFrame'>\n",
            "RangeIndex: 18870 entries, 0 to 18869\n",
            "Data columns (total 17 columns):\n",
            " #   Column       Non-Null Count  Dtype \n",
            "---  ------       --------------  ----- \n",
            " 0   Year         18870 non-null  int64 \n",
            " 1   Month        18870 non-null  int64 \n",
            " 2   Day          18870 non-null  int64 \n",
            " 3   Country      18870 non-null  object\n",
            " 4   Region       18870 non-null  object\n",
            " 5   State        18870 non-null  object\n",
            " 6   City         18870 non-null  object\n",
            " 7   Success      18870 non-null  int64 \n",
            " 8   Attacktype   18870 non-null  object\n",
            " 9   Target_type  18870 non-null  object\n",
            " 10  Target       18678 non-null  object\n",
            " 11  Killed       18870 non-null  int64 \n",
            " 12  Wounded      18870 non-null  int64 \n",
            " 13  Summary      957 non-null    object\n",
            " 14  Group        18870 non-null  object\n",
            " 15  Weapon_type  18870 non-null  object\n",
            " 16  Motive       688 non-null    object\n",
            "dtypes: int64(6), object(11)\n",
            "memory usage: 2.4+ MB\n"
          ]
        }
      ]
    },
    {
      "cell_type": "code",
      "source": [
        "data.head()"
      ],
      "metadata": {
        "colab": {
          "base_uri": "https://localhost:8080/",
          "height": 409
        },
        "id": "-hs-uG7g9WSe",
        "outputId": "3ced15b5-3523-4d96-b7d7-581c5888931c"
      },
      "execution_count": null,
      "outputs": [
        {
          "output_type": "execute_result",
          "data": {
            "text/plain": [
              "   Year  Month  Day             Country                       Region    State  \\\n",
              "0  1970      7    2  Dominican Republic  Central America & Caribbean  Unknown   \n",
              "1  1970      0    0              Mexico                North America  Federal   \n",
              "2  1970      1    0         Philippines               Southeast Asia   Tarlac   \n",
              "3  1970      1    0              Greece               Western Europe   Attica   \n",
              "4  1970      1    0               Japan                    East Asia  Fukouka   \n",
              "\n",
              "            City  Success                      Attacktype  \\\n",
              "0  Santo Domingo        1                   Assassination   \n",
              "1    Mexico city        1     Hostage Taking (Kidnapping)   \n",
              "2        Unknown        1                   Assassination   \n",
              "3         Athens        1               Bombing/Explosion   \n",
              "4        Fukouka        1  Facility/Infrastructure Attack   \n",
              "\n",
              "                   Target_type                   Target  Killed  Wounded  \\\n",
              "0  Private Citizens & Property             Julio Guzman       1        0   \n",
              "1      Government (Diplomatic)  Nadine Chaval, daughter       0        0   \n",
              "2          Journalists & Media                 Employee       1        0   \n",
              "3      Government (Diplomatic)             U.S. Embassy       0        0   \n",
              "4      Government (Diplomatic)           U.S. Consulate       0        0   \n",
              "\n",
              "  Summary                               Group Weapon_type Motive  \n",
              "0     NaN                              MANO-D     Unknown    NaN  \n",
              "1     NaN  23rd of September Communist League     Unknown    NaN  \n",
              "2     NaN                             Unknown     Unknown    NaN  \n",
              "3     NaN                             Unknown  Explosives    NaN  \n",
              "4     NaN                             Unknown  Incendiary    NaN  "
            ],
            "text/html": [
              "\n",
              "  <div id=\"df-0738ecb7-34c4-4696-ae9c-47d18550d344\">\n",
              "    <div class=\"colab-df-container\">\n",
              "      <div>\n",
              "<style scoped>\n",
              "    .dataframe tbody tr th:only-of-type {\n",
              "        vertical-align: middle;\n",
              "    }\n",
              "\n",
              "    .dataframe tbody tr th {\n",
              "        vertical-align: top;\n",
              "    }\n",
              "\n",
              "    .dataframe thead th {\n",
              "        text-align: right;\n",
              "    }\n",
              "</style>\n",
              "<table border=\"1\" class=\"dataframe\">\n",
              "  <thead>\n",
              "    <tr style=\"text-align: right;\">\n",
              "      <th></th>\n",
              "      <th>Year</th>\n",
              "      <th>Month</th>\n",
              "      <th>Day</th>\n",
              "      <th>Country</th>\n",
              "      <th>Region</th>\n",
              "      <th>State</th>\n",
              "      <th>City</th>\n",
              "      <th>Success</th>\n",
              "      <th>Attacktype</th>\n",
              "      <th>Target_type</th>\n",
              "      <th>Target</th>\n",
              "      <th>Killed</th>\n",
              "      <th>Wounded</th>\n",
              "      <th>Summary</th>\n",
              "      <th>Group</th>\n",
              "      <th>Weapon_type</th>\n",
              "      <th>Motive</th>\n",
              "    </tr>\n",
              "  </thead>\n",
              "  <tbody>\n",
              "    <tr>\n",
              "      <th>0</th>\n",
              "      <td>1970</td>\n",
              "      <td>7</td>\n",
              "      <td>2</td>\n",
              "      <td>Dominican Republic</td>\n",
              "      <td>Central America &amp; Caribbean</td>\n",
              "      <td>Unknown</td>\n",
              "      <td>Santo Domingo</td>\n",
              "      <td>1</td>\n",
              "      <td>Assassination</td>\n",
              "      <td>Private Citizens &amp; Property</td>\n",
              "      <td>Julio Guzman</td>\n",
              "      <td>1</td>\n",
              "      <td>0</td>\n",
              "      <td>NaN</td>\n",
              "      <td>MANO-D</td>\n",
              "      <td>Unknown</td>\n",
              "      <td>NaN</td>\n",
              "    </tr>\n",
              "    <tr>\n",
              "      <th>1</th>\n",
              "      <td>1970</td>\n",
              "      <td>0</td>\n",
              "      <td>0</td>\n",
              "      <td>Mexico</td>\n",
              "      <td>North America</td>\n",
              "      <td>Federal</td>\n",
              "      <td>Mexico city</td>\n",
              "      <td>1</td>\n",
              "      <td>Hostage Taking (Kidnapping)</td>\n",
              "      <td>Government (Diplomatic)</td>\n",
              "      <td>Nadine Chaval, daughter</td>\n",
              "      <td>0</td>\n",
              "      <td>0</td>\n",
              "      <td>NaN</td>\n",
              "      <td>23rd of September Communist League</td>\n",
              "      <td>Unknown</td>\n",
              "      <td>NaN</td>\n",
              "    </tr>\n",
              "    <tr>\n",
              "      <th>2</th>\n",
              "      <td>1970</td>\n",
              "      <td>1</td>\n",
              "      <td>0</td>\n",
              "      <td>Philippines</td>\n",
              "      <td>Southeast Asia</td>\n",
              "      <td>Tarlac</td>\n",
              "      <td>Unknown</td>\n",
              "      <td>1</td>\n",
              "      <td>Assassination</td>\n",
              "      <td>Journalists &amp; Media</td>\n",
              "      <td>Employee</td>\n",
              "      <td>1</td>\n",
              "      <td>0</td>\n",
              "      <td>NaN</td>\n",
              "      <td>Unknown</td>\n",
              "      <td>Unknown</td>\n",
              "      <td>NaN</td>\n",
              "    </tr>\n",
              "    <tr>\n",
              "      <th>3</th>\n",
              "      <td>1970</td>\n",
              "      <td>1</td>\n",
              "      <td>0</td>\n",
              "      <td>Greece</td>\n",
              "      <td>Western Europe</td>\n",
              "      <td>Attica</td>\n",
              "      <td>Athens</td>\n",
              "      <td>1</td>\n",
              "      <td>Bombing/Explosion</td>\n",
              "      <td>Government (Diplomatic)</td>\n",
              "      <td>U.S. Embassy</td>\n",
              "      <td>0</td>\n",
              "      <td>0</td>\n",
              "      <td>NaN</td>\n",
              "      <td>Unknown</td>\n",
              "      <td>Explosives</td>\n",
              "      <td>NaN</td>\n",
              "    </tr>\n",
              "    <tr>\n",
              "      <th>4</th>\n",
              "      <td>1970</td>\n",
              "      <td>1</td>\n",
              "      <td>0</td>\n",
              "      <td>Japan</td>\n",
              "      <td>East Asia</td>\n",
              "      <td>Fukouka</td>\n",
              "      <td>Fukouka</td>\n",
              "      <td>1</td>\n",
              "      <td>Facility/Infrastructure Attack</td>\n",
              "      <td>Government (Diplomatic)</td>\n",
              "      <td>U.S. Consulate</td>\n",
              "      <td>0</td>\n",
              "      <td>0</td>\n",
              "      <td>NaN</td>\n",
              "      <td>Unknown</td>\n",
              "      <td>Incendiary</td>\n",
              "      <td>NaN</td>\n",
              "    </tr>\n",
              "  </tbody>\n",
              "</table>\n",
              "</div>\n",
              "      <button class=\"colab-df-convert\" onclick=\"convertToInteractive('df-0738ecb7-34c4-4696-ae9c-47d18550d344')\"\n",
              "              title=\"Convert this dataframe to an interactive table.\"\n",
              "              style=\"display:none;\">\n",
              "        \n",
              "  <svg xmlns=\"http://www.w3.org/2000/svg\" height=\"24px\"viewBox=\"0 0 24 24\"\n",
              "       width=\"24px\">\n",
              "    <path d=\"M0 0h24v24H0V0z\" fill=\"none\"/>\n",
              "    <path d=\"M18.56 5.44l.94 2.06.94-2.06 2.06-.94-2.06-.94-.94-2.06-.94 2.06-2.06.94zm-11 1L8.5 8.5l.94-2.06 2.06-.94-2.06-.94L8.5 2.5l-.94 2.06-2.06.94zm10 10l.94 2.06.94-2.06 2.06-.94-2.06-.94-.94-2.06-.94 2.06-2.06.94z\"/><path d=\"M17.41 7.96l-1.37-1.37c-.4-.4-.92-.59-1.43-.59-.52 0-1.04.2-1.43.59L10.3 9.45l-7.72 7.72c-.78.78-.78 2.05 0 2.83L4 21.41c.39.39.9.59 1.41.59.51 0 1.02-.2 1.41-.59l7.78-7.78 2.81-2.81c.8-.78.8-2.07 0-2.86zM5.41 20L4 18.59l7.72-7.72 1.47 1.35L5.41 20z\"/>\n",
              "  </svg>\n",
              "      </button>\n",
              "      \n",
              "  <style>\n",
              "    .colab-df-container {\n",
              "      display:flex;\n",
              "      flex-wrap:wrap;\n",
              "      gap: 12px;\n",
              "    }\n",
              "\n",
              "    .colab-df-convert {\n",
              "      background-color: #E8F0FE;\n",
              "      border: none;\n",
              "      border-radius: 50%;\n",
              "      cursor: pointer;\n",
              "      display: none;\n",
              "      fill: #1967D2;\n",
              "      height: 32px;\n",
              "      padding: 0 0 0 0;\n",
              "      width: 32px;\n",
              "    }\n",
              "\n",
              "    .colab-df-convert:hover {\n",
              "      background-color: #E2EBFA;\n",
              "      box-shadow: 0px 1px 2px rgba(60, 64, 67, 0.3), 0px 1px 3px 1px rgba(60, 64, 67, 0.15);\n",
              "      fill: #174EA6;\n",
              "    }\n",
              "\n",
              "    [theme=dark] .colab-df-convert {\n",
              "      background-color: #3B4455;\n",
              "      fill: #D2E3FC;\n",
              "    }\n",
              "\n",
              "    [theme=dark] .colab-df-convert:hover {\n",
              "      background-color: #434B5C;\n",
              "      box-shadow: 0px 1px 3px 1px rgba(0, 0, 0, 0.15);\n",
              "      filter: drop-shadow(0px 1px 2px rgba(0, 0, 0, 0.3));\n",
              "      fill: #FFFFFF;\n",
              "    }\n",
              "  </style>\n",
              "\n",
              "      <script>\n",
              "        const buttonEl =\n",
              "          document.querySelector('#df-0738ecb7-34c4-4696-ae9c-47d18550d344 button.colab-df-convert');\n",
              "        buttonEl.style.display =\n",
              "          google.colab.kernel.accessAllowed ? 'block' : 'none';\n",
              "\n",
              "        async function convertToInteractive(key) {\n",
              "          const element = document.querySelector('#df-0738ecb7-34c4-4696-ae9c-47d18550d344');\n",
              "          const dataTable =\n",
              "            await google.colab.kernel.invokeFunction('convertToInteractive',\n",
              "                                                     [key], {});\n",
              "          if (!dataTable) return;\n",
              "\n",
              "          const docLinkHtml = 'Like what you see? Visit the ' +\n",
              "            '<a target=\"_blank\" href=https://colab.research.google.com/notebooks/data_table.ipynb>data table notebook</a>'\n",
              "            + ' to learn more about interactive tables.';\n",
              "          element.innerHTML = '';\n",
              "          dataTable['output_type'] = 'display_data';\n",
              "          await google.colab.output.renderOutput(dataTable, element);\n",
              "          const docLink = document.createElement('div');\n",
              "          docLink.innerHTML = docLinkHtml;\n",
              "          element.appendChild(docLink);\n",
              "        }\n",
              "      </script>\n",
              "    </div>\n",
              "  </div>\n",
              "  "
            ]
          },
          "metadata": {},
          "execution_count": 16
        }
      ]
    },
    {
      "cell_type": "markdown",
      "source": [
        "Getting Insights from data\n",
        "\n",
        "Number of unique values/observations in each column/attribute."
      ],
      "metadata": {
        "id": "0AZZCcuK9hGA"
      }
    },
    {
      "cell_type": "code",
      "source": [
        "data.nunique()"
      ],
      "metadata": {
        "colab": {
          "base_uri": "https://localhost:8080/"
        },
        "id": "7DlxBoqe9cVu",
        "outputId": "8c35f93d-03bc-4faa-b7ff-3f1fdef1b8c9"
      },
      "execution_count": null,
      "outputs": [
        {
          "output_type": "execute_result",
          "data": {
            "text/plain": [
              "Year              15\n",
              "Month             13\n",
              "Day               32\n",
              "Country          129\n",
              "Region            11\n",
              "State            762\n",
              "City            3450\n",
              "Success            2\n",
              "Attacktype         9\n",
              "Target_type       22\n",
              "Target         13133\n",
              "Killed            82\n",
              "Wounded           87\n",
              "Summary          922\n",
              "Group            958\n",
              "Weapon_type       12\n",
              "Motive           311\n",
              "dtype: int64"
            ]
          },
          "metadata": {},
          "execution_count": 17
        }
      ]
    },
    {
      "cell_type": "code",
      "source": [
        "data['Region'].unique()"
      ],
      "metadata": {
        "colab": {
          "base_uri": "https://localhost:8080/"
        },
        "id": "L3IAWHgH9pke",
        "outputId": "44a7d0e5-3bd6-4ae5-9cfd-22195c6c99d0"
      },
      "execution_count": null,
      "outputs": [
        {
          "output_type": "execute_result",
          "data": {
            "text/plain": [
              "array(['Central America & Caribbean', 'North America', 'Southeast Asia',\n",
              "       'Western Europe', 'East Asia', 'South America', 'Eastern Europe',\n",
              "       'Sub-Saharan Africa', 'Middle East & North Africa',\n",
              "       'Australasia & Oceania', 'South Asia'], dtype=object)"
            ]
          },
          "metadata": {},
          "execution_count": 18
        }
      ]
    },
    {
      "cell_type": "code",
      "source": [
        "data['Attacktype'].unique()"
      ],
      "metadata": {
        "colab": {
          "base_uri": "https://localhost:8080/"
        },
        "id": "iKFAilFk9usV",
        "outputId": "ba324349-6799-4d38-c3b0-9ab8e0b99693"
      },
      "execution_count": null,
      "outputs": [
        {
          "output_type": "execute_result",
          "data": {
            "text/plain": [
              "array(['Assassination', 'Hostage Taking (Kidnapping)',\n",
              "       'Bombing/Explosion', 'Facility/Infrastructure Attack',\n",
              "       'Armed Assault', 'Hijacking', 'Unknown', 'Unarmed Assault',\n",
              "       'Hostage Taking (Barricade Incident)'], dtype=object)"
            ]
          },
          "metadata": {},
          "execution_count": 19
        }
      ]
    },
    {
      "cell_type": "code",
      "source": [
        "data['Target'].unique()"
      ],
      "metadata": {
        "colab": {
          "base_uri": "https://localhost:8080/"
        },
        "id": "-BpTla3x_AUO",
        "outputId": "597a233b-8daa-46f2-9bae-25565479c24f"
      },
      "execution_count": null,
      "outputs": [
        {
          "output_type": "execute_result",
          "data": {
            "text/plain": [
              "array(['Julio Guzman', 'Nadine Chaval, daughter', 'Employee', ...,\n",
              "       'Sabra camp', 'Village of Palmira',\n",
              "       'Royal Ulster Constabulary Patrol Car'], dtype=object)"
            ]
          },
          "metadata": {},
          "execution_count": 20
        }
      ]
    },
    {
      "cell_type": "code",
      "source": [
        "data['Group'].nunique()"
      ],
      "metadata": {
        "colab": {
          "base_uri": "https://localhost:8080/"
        },
        "id": "0eYcfIBU_DdN",
        "outputId": "093b74ad-956a-4782-9970-f6b8d5cfcd12"
      },
      "execution_count": null,
      "outputs": [
        {
          "output_type": "execute_result",
          "data": {
            "text/plain": [
              "958"
            ]
          },
          "metadata": {},
          "execution_count": 21
        }
      ]
    },
    {
      "cell_type": "code",
      "source": [
        "data['Weapon_type'].unique()"
      ],
      "metadata": {
        "colab": {
          "base_uri": "https://localhost:8080/"
        },
        "id": "zRcVjYCy_HSo",
        "outputId": "9f535031-c326-49eb-a10d-4b6fe39413dc"
      },
      "execution_count": null,
      "outputs": [
        {
          "output_type": "execute_result",
          "data": {
            "text/plain": [
              "array(['Unknown', 'Explosives', 'Incendiary', 'Firearms', 'Chemical',\n",
              "       'Melee', 'Sabotage Equipment',\n",
              "       'Vehicle (not to include vehicle-borne explosives, i.e., car or truck bombs)',\n",
              "       'Fake Weapons', 'Radiological', 'Other', 'Biological'],\n",
              "      dtype=object)"
            ]
          },
          "metadata": {},
          "execution_count": 22
        }
      ]
    },
    {
      "cell_type": "code",
      "source": [
        "data['Country'].value_counts().head(20)"
      ],
      "metadata": {
        "colab": {
          "base_uri": "https://localhost:8080/"
        },
        "id": "RmT9Q7tq_Yb2",
        "outputId": "03af2633-f9ce-4b89-f005-c316aae7ce66"
      },
      "execution_count": null,
      "outputs": [
        {
          "output_type": "execute_result",
          "data": {
            "text/plain": [
              "El Salvador                 2547\n",
              "United Kingdom              2087\n",
              "United States               1711\n",
              "Spain                       1374\n",
              "Italy                       1226\n",
              "Guatemala                   1194\n",
              "Colombia                    1051\n",
              "France                       781\n",
              "Peru                         757\n",
              "Turkey                       593\n",
              "Nicaragua                    562\n",
              "Lebanon                      508\n",
              "Israel                       399\n",
              "Iran                         378\n",
              "West Germany (FRG)           354\n",
              "Argentina                    354\n",
              "Philippines                  264\n",
              "Greece                       202\n",
              "Chile                        179\n",
              "West Bank and Gaza Strip     165\n",
              "Name: Country, dtype: int64"
            ]
          },
          "metadata": {},
          "execution_count": 23
        }
      ]
    },
    {
      "cell_type": "code",
      "source": [
        "data['Region'].value_counts()"
      ],
      "metadata": {
        "colab": {
          "base_uri": "https://localhost:8080/"
        },
        "id": "4NqlCP4F_a4J",
        "outputId": "34a5b24e-8dc3-4848-ff15-222fa2b13138"
      },
      "execution_count": null,
      "outputs": [
        {
          "output_type": "execute_result",
          "data": {
            "text/plain": [
              "Western Europe                 6390\n",
              "Central America & Caribbean    4502\n",
              "South America                  2651\n",
              "Middle East & North Africa     2303\n",
              "North America                  1852\n",
              "Sub-Saharan Africa              500\n",
              "Southeast Asia                  387\n",
              "South Asia                      135\n",
              "East Asia                        86\n",
              "Eastern Europe                   36\n",
              "Australasia & Oceania            28\n",
              "Name: Region, dtype: int64"
            ]
          },
          "metadata": {},
          "execution_count": 24
        }
      ]
    },
    {
      "cell_type": "code",
      "source": [
        "data['State'].value_counts().head(20)"
      ],
      "metadata": {
        "colab": {
          "base_uri": "https://localhost:8080/"
        },
        "id": "O64eAmYD_qkv",
        "outputId": "0b8d0e61-9f35-49fb-9eb1-1ef1a486480a"
      },
      "execution_count": null,
      "outputs": [
        {
          "output_type": "execute_result",
          "data": {
            "text/plain": [
              "Northern Ireland    1877\n",
              "San Salvador        1119\n",
              "Unknown              761\n",
              "Guatemala            528\n",
              "Lazio                480\n",
              "Basque Country       476\n",
              "California           429\n",
              "New York             410\n",
              "Paris                340\n",
              "Beirut               334\n",
              "Buenos Aires         264\n",
              "Ayacucho             263\n",
              "Madrid               250\n",
              "Bogota               250\n",
              "Lombardy             224\n",
              "San Vicente          214\n",
              "Lima                 214\n",
              "England              198\n",
              "Istanbul             196\n",
              "Santa Ana            185\n",
              "Name: State, dtype: int64"
            ]
          },
          "metadata": {},
          "execution_count": 25
        }
      ]
    },
    {
      "cell_type": "code",
      "source": [
        "data['Target'].value_counts().head(20)"
      ],
      "metadata": {
        "colab": {
          "base_uri": "https://localhost:8080/"
        },
        "id": "swrRhHwu_6iU",
        "outputId": "4445c8bb-bafd-4535-a194-87b8c3e9c134"
      },
      "execution_count": null,
      "outputs": [
        {
          "output_type": "execute_result",
          "data": {
            "text/plain": [
              "Military Unit              463\n",
              "Bank                       161\n",
              "military unit              110\n",
              "bank                       105\n",
              "Bus                        100\n",
              "store                       95\n",
              "Police Station              89\n",
              "unit                        76\n",
              "bus                         67\n",
              "Military Patrol             66\n",
              "High tension line tower     63\n",
              "Police Post                 57\n",
              "unk                         55\n",
              "Store                       53\n",
              "Radio Station               48\n",
              "Unk                         46\n",
              "Street                      44\n",
              "Military unit               43\n",
              "patrol                      42\n",
              "Police Unit                 40\n",
              "Name: Target, dtype: int64"
            ]
          },
          "metadata": {},
          "execution_count": 26
        }
      ]
    },
    {
      "cell_type": "code",
      "source": [
        "data['City'].value_counts().head(20)"
      ],
      "metadata": {
        "colab": {
          "base_uri": "https://localhost:8080/"
        },
        "id": "RkRFF5aDBNYJ",
        "outputId": "db5e0c28-96bf-4f1c-9221-2a37ab647b88"
      },
      "execution_count": null,
      "outputs": [
        {
          "output_type": "execute_result",
          "data": {
            "text/plain": [
              "Unknown           998\n",
              "Belfast           972\n",
              "San Salvador      920\n",
              "Rome              459\n",
              "Guatemala City    420\n",
              "Paris             382\n",
              "New York City     378\n",
              "Beirut            332\n",
              "Bogota            248\n",
              "Madrid            244\n",
              "Buenos Aires      225\n",
              "Istanbul          192\n",
              "Athens            179\n",
              "Jerusalem         176\n",
              "Tehran            172\n",
              "Lima              163\n",
              "Milan             155\n",
              "Ankara            154\n",
              "Bilbao            150\n",
              "Santa Ana         149\n",
              "Name: City, dtype: int64"
            ]
          },
          "metadata": {},
          "execution_count": 27
        }
      ]
    },
    {
      "cell_type": "code",
      "source": [
        "data['Attacktype'].value_counts().head(10)"
      ],
      "metadata": {
        "colab": {
          "base_uri": "https://localhost:8080/"
        },
        "id": "Yk9s1t_qBOYP",
        "outputId": "44a4a7bc-6845-4e7c-a1a1-77b9a4e70a9f"
      },
      "execution_count": null,
      "outputs": [
        {
          "output_type": "execute_result",
          "data": {
            "text/plain": [
              "Bombing/Explosion                      7991\n",
              "Armed Assault                          3774\n",
              "Assassination                          3511\n",
              "Facility/Infrastructure Attack         1609\n",
              "Hostage Taking (Kidnapping)             959\n",
              "Unknown                                 573\n",
              "Hostage Taking (Barricade Incident)     315\n",
              "Hijacking                               105\n",
              "Unarmed Assault                          33\n",
              "Name: Attacktype, dtype: int64"
            ]
          },
          "metadata": {},
          "execution_count": 28
        }
      ]
    },
    {
      "cell_type": "code",
      "source": [
        "data['Group'].value_counts().head(20)"
      ],
      "metadata": {
        "colab": {
          "base_uri": "https://localhost:8080/"
        },
        "id": "taELNnHKBSNc",
        "outputId": "41113164-4aa6-4274-a056-6776416879a4"
      },
      "execution_count": null,
      "outputs": [
        {
          "output_type": "execute_result",
          "data": {
            "text/plain": [
              "Unknown                                                  6501\n",
              "Irish Republican Army (IRA)                              1332\n",
              "Farabundo Marti National Liberation Front (FMLN)          778\n",
              "Basque Fatherland and Freedom (ETA)                       768\n",
              "Shining Path (SL)                                         515\n",
              "Palestinians                                              416\n",
              "Revolutionary Armed Forces of Colombia (FARC)             310\n",
              "M-19 (Movement of April 19)                               259\n",
              "Protestant extremists                                     220\n",
              "Red Brigades                                              209\n",
              "Sandinista National Liberation Front (FSLN)               197\n",
              "Corsican National Liberation Front (FLNC)                 192\n",
              "Ulster Volunteer Force (UVF)                              184\n",
              "Left-Wing Militants                                       170\n",
              "People's Liberation Forces (FPL)                          167\n",
              "Armenian Secret Army for the Liberation of Armenia        161\n",
              "Guerrilla Army of the Poor (EGP)                          144\n",
              "First of October Antifascist Resistance Group (GRAPO)     127\n",
              "Black September                                           120\n",
              "Fuerzas Armadas de Liberacion Nacional (FALN)             120\n",
              "Name: Group, dtype: int64"
            ]
          },
          "metadata": {},
          "execution_count": 29
        }
      ]
    },
    {
      "cell_type": "code",
      "source": [
        "data['Weapon_type'].value_counts()"
      ],
      "metadata": {
        "colab": {
          "base_uri": "https://localhost:8080/"
        },
        "id": "aZPATyzXBU0T",
        "outputId": "ab1de764-0e68-4c4b-ad4c-fac5be032051"
      },
      "execution_count": null,
      "outputs": [
        {
          "output_type": "execute_result",
          "data": {
            "text/plain": [
              "Explosives                                                                     8114\n",
              "Firearms                                                                       6673\n",
              "Unknown                                                                        2060\n",
              "Incendiary                                                                     1836\n",
              "Melee                                                                           123\n",
              "Chemical                                                                         35\n",
              "Sabotage Equipment                                                               11\n",
              "Other                                                                             8\n",
              "Fake Weapons                                                                      4\n",
              "Vehicle (not to include vehicle-borne explosives, i.e., car or truck bombs)       2\n",
              "Radiological                                                                      2\n",
              "Biological                                                                        2\n",
              "Name: Weapon_type, dtype: int64"
            ]
          },
          "metadata": {},
          "execution_count": 30
        }
      ]
    },
    {
      "cell_type": "markdown",
      "source": [
        "Data Visualisation\n",
        "\n",
        "Terrorist activities in each year"
      ],
      "metadata": {
        "id": "Q5YOBNN7FY65"
      }
    },
    {
      "cell_type": "code",
      "source": [
        "plt.figure(figsize = (11,5))\n",
        "sns.countplot(x='Year',data=data)\n",
        "plt.xticks(rotation=90)\n",
        "plt.title('Number of terrorist activites each year')\n",
        "plt.show"
      ],
      "metadata": {
        "colab": {
          "base_uri": "https://localhost:8080/",
          "height": 526
        },
        "id": "JNjrDbbIBmbJ",
        "outputId": "ccee6229-687d-43c0-d25e-6a20aa50d4f6"
      },
      "execution_count": null,
      "outputs": [
        {
          "output_type": "execute_result",
          "data": {
            "text/plain": [
              "<function matplotlib.pyplot.show(close=None, block=None)>"
            ]
          },
          "metadata": {},
          "execution_count": 33
        },
        {
          "output_type": "display_data",
          "data": {
            "text/plain": [
              "<Figure size 1100x500 with 1 Axes>"
            ],
            "image/png": "[encoded data removed]"
          },
          "metadata": {}
        }
      ]
    },
    {
      "cell_type": "markdown",
      "source": [
        "destructive feature of data"
      ],
      "metadata": {
        "id": "5C7u7NcItQyh"
      }
    },
    {
      "cell_type": "code",
      "source": [
        "print(\"Country with the most attacks:\",data['Country'].value_counts().idxmax())\n",
        "print(\"City with the most attacks:\",data['city'].value_counts().index[1]) #as first entry is 'unknown'\n",
        "print(\"Region with the most attacks:\",data['Region'].value_counts().idxmax())\n",
        "print(\"Year with the most attacks:\",data['Year'].value_counts().idxmax())\n",
        "print(\"Month with the most attacks:\",data['Month'].value_counts().idxmax())\n",
        "print(\"Group with the most attacks:\",data['Group'].value_counts().index[1])\n",
        "print(\"Most Attack Types:\",data['AttackType'].value_counts().idxmax())"
      ],
      "metadata": {
        "colab": {
          "base_uri": "https://localhost:8080/"
        },
        "id": "JSAceIvwtPoj",
        "outputId": "ed0d4756-4fc8-411f-c94f-2b6a3b550a98"
      },
      "execution_count": null,
      "outputs": [
        {
          "output_type": "stream",
          "name": "stdout",
          "text": [
            "Country with the most attacks: United States\n",
            "City with the most attacks: New York City\n",
            "Region with the most attacks: Western Europe\n",
            "Year with the most attacks: 1970\n",
            "Month with the most attacks: 3\n",
            "Group with the most attacks: Irish Republican Army (IRA)\n",
            "Most Attack Types: Bombing/Explosion\n"
          ]
        }
      ]
    },
    {
      "cell_type": "code",
      "source": [
        "from wordcloud import WordCloud\n",
        "from scipy import signal\n",
        "cities = data.state.dropna(False)\n",
        "plt.subplots(figsize=(6,10))\n",
        "wordcloud = WordCloud(background_color = 'black',\n",
        "                     width = 500,\n",
        "                     height = 284).generate(' '.join(cities))\n",
        "plt.axis('off')\n",
        "plt.imshow(wordcloud)\n",
        "plt.show()"
      ],
      "metadata": {
        "colab": {
          "base_uri": "https://localhost:8080/",
          "height": 301
        },
        "id": "CpnzTkPUtmok",
        "outputId": "6852037d-ec4e-4387-bfb2-0dc10e4f94dc"
      },
      "execution_count": null,
      "outputs": [
        {
          "output_type": "display_data",
          "data": {
            "text/plain": [
              "<Figure size 600x1000 with 1 Axes>"
            ],
            "image/png": "[encoded data removed]"
          },
          "metadata": {}
        }
      ]
    },
    {
      "cell_type": "code",
      "source": [
        "data['Year'].value_counts(dropna = False).sort_index()"
      ],
      "metadata": {
        "colab": {
          "base_uri": "https://localhost:8080/"
        },
        "id": "2QRMemq-tzmW",
        "outputId": "564536e3-cdf3-4ece-c78a-9fd21031f34c"
      },
      "execution_count": null,
      "outputs": [
        {
          "output_type": "execute_result",
          "data": {
            "text/plain": [
              "1970    651\n",
              "1971    471\n",
              "1972    568\n",
              "1973    473\n",
              "1974    581\n",
              "1975    165\n",
              "Name: Year, dtype: int64"
            ]
          },
          "metadata": {},
          "execution_count": 20
        }
      ]
    },
    {
      "cell_type": "code",
      "source": [
        "x_year = data['Year'].unique()\n",
        "y_count_years = data['Year'].value_counts(dropna = False).sort_index()\n",
        "plt.figure(figsize = (12,8))\n",
        "sns.barplot(x = x_year,\n",
        "           y = y_count_years,\n",
        "           palette = 'rocket')\n",
        "plt.xticks(rotation = 90)\n",
        "plt.xlabel('Attack Year')\n",
        "plt.ylabel('Number of Attacks each year')\n",
        "plt.title('Attack_of_Years')\n",
        "plt.show()\n"
      ],
      "metadata": {
        "colab": {
          "base_uri": "https://localhost:8080/",
          "height": 739
        },
        "id": "t4ZEEXs5i3Ha",
        "outputId": "75378daf-16b5-4859-f0b8-1b9219bad43d"
      },
      "execution_count": null,
      "outputs": [
        {
          "output_type": "display_data",
          "data": {
            "text/plain": [
              "<Figure size 1200x800 with 1 Axes>"
            ],
            "image/png": "[encoded data removed]"
          },
          "metadata": {}
        }
      ]
    },
    {
      "cell_type": "code",
      "source": [
        "pd.crosstab(data.Year, data.Region).plot(kind='area',figsize=(13,10))\n",
        "plt.title('Terrorist Activities by Region in each Year')\n",
        "plt.ylabel('Number of Attacks')\n",
        "plt.show()"
      ],
      "metadata": {
        "colab": {
          "base_uri": "https://localhost:8080/",
          "height": 872
        },
        "id": "tc8tdZ--vG5i",
        "outputId": "88e46a6a-b5d0-4010-b56d-b18c876a56a7"
      },
      "execution_count": null,
      "outputs": [
        {
          "output_type": "display_data",
          "data": {
            "text/plain": [
              "<Figure size 1300x1000 with 1 Axes>"
            ],
            "image/png": "[encoded data removed]"
          },
          "metadata": {}
        }
      ]
    },
    {
      "cell_type": "code",
      "source": [
        "data['Wounded'] = data['Wounded'].fillna(0).astype(int)\n",
        "data['Killed'] = data['Killed'].fillna(0).astype(int)\n",
        "data['casualities'] = data['Killed'] + data['Wounded']"
      ],
      "metadata": {
        "id": "UqVdeOjTvYVq"
      },
      "execution_count": null,
      "outputs": []
    },
    {
      "cell_type": "code",
      "source": [
        "data1 = data.sort_values(by='casualities',ascending=False)[:40]"
      ],
      "metadata": {
        "id": "wVryfCLFvj7D"
      },
      "execution_count": null,
      "outputs": []
    },
    {
      "cell_type": "code",
      "source": [
        "heat=data1.pivot_table(index='Country',columns='Year',values='casualities')\n",
        "heat.fillna(0,inplace=True)"
      ],
      "metadata": {
        "id": "M_dA1lxxvmm0"
      },
      "execution_count": null,
      "outputs": []
    },
    {
      "cell_type": "code",
      "source": [
        "heat.head()"
      ],
      "metadata": {
        "colab": {
          "base_uri": "https://localhost:8080/",
          "height": 237
        },
        "id": "0jwJ1XqYvo_h",
        "outputId": "09c7c8cc-7c93-426b-85fc-2832ad6686a3"
      },
      "execution_count": null,
      "outputs": [
        {
          "output_type": "execute_result",
          "data": {
            "text/plain": [
              "Year            1970  1971  1972  1973       1974  1975\n",
              "Country                                                \n",
              "Czechoslovakia   0.0   0.0  26.0   0.0   0.000000   0.0\n",
              "France           0.0   0.0   0.0  23.0  36.000000   0.0\n",
              "Greece           0.0   0.0   0.0  60.0  88.000000   0.0\n",
              "Ireland          0.0   0.0   0.0   0.0  26.000000   0.0\n",
              "Israel           0.0   0.0  98.0  20.0  57.333333   0.0"
            ],
            "text/html": [
              "\n",
              "  <div id=\"df-41e53fc5-c21c-4d14-b537-ee167f82dfbf\">\n",
              "    <div class=\"colab-df-container\">\n",
              "      <div>\n",
              "<style scoped>\n",
              "    .dataframe tbody tr th:only-of-type {\n",
              "        vertical-align: middle;\n",
              "    }\n",
              "\n",
              "    .dataframe tbody tr th {\n",
              "        vertical-align: top;\n",
              "    }\n",
              "\n",
              "    .dataframe thead th {\n",
              "        text-align: right;\n",
              "    }\n",
              "</style>\n",
              "<table border=\"1\" class=\"dataframe\">\n",
              "  <thead>\n",
              "    <tr style=\"text-align: right;\">\n",
              "      <th>Year</th>\n",
              "      <th>1970</th>\n",
              "      <th>1971</th>\n",
              "      <th>1972</th>\n",
              "      <th>1973</th>\n",
              "      <th>1974</th>\n",
              "      <th>1975</th>\n",
              "    </tr>\n",
              "    <tr>\n",
              "      <th>Country</th>\n",
              "      <th></th>\n",
              "      <th></th>\n",
              "      <th></th>\n",
              "      <th></th>\n",
              "      <th></th>\n",
              "      <th></th>\n",
              "    </tr>\n",
              "  </thead>\n",
              "  <tbody>\n",
              "    <tr>\n",
              "      <th>Czechoslovakia</th>\n",
              "      <td>0.0</td>\n",
              "      <td>0.0</td>\n",
              "      <td>26.0</td>\n",
              "      <td>0.0</td>\n",
              "      <td>0.000000</td>\n",
              "      <td>0.0</td>\n",
              "    </tr>\n",
              "    <tr>\n",
              "      <th>France</th>\n",
              "      <td>0.0</td>\n",
              "      <td>0.0</td>\n",
              "      <td>0.0</td>\n",
              "      <td>23.0</td>\n",
              "      <td>36.000000</td>\n",
              "      <td>0.0</td>\n",
              "    </tr>\n",
              "    <tr>\n",
              "      <th>Greece</th>\n",
              "      <td>0.0</td>\n",
              "      <td>0.0</td>\n",
              "      <td>0.0</td>\n",
              "      <td>60.0</td>\n",
              "      <td>88.000000</td>\n",
              "      <td>0.0</td>\n",
              "    </tr>\n",
              "    <tr>\n",
              "      <th>Ireland</th>\n",
              "      <td>0.0</td>\n",
              "      <td>0.0</td>\n",
              "      <td>0.0</td>\n",
              "      <td>0.0</td>\n",
              "      <td>26.000000</td>\n",
              "      <td>0.0</td>\n",
              "    </tr>\n",
              "    <tr>\n",
              "      <th>Israel</th>\n",
              "      <td>0.0</td>\n",
              "      <td>0.0</td>\n",
              "      <td>98.0</td>\n",
              "      <td>20.0</td>\n",
              "      <td>57.333333</td>\n",
              "      <td>0.0</td>\n",
              "    </tr>\n",
              "  </tbody>\n",
              "</table>\n",
              "</div>\n",
              "      <button class=\"colab-df-convert\" onclick=\"convertToInteractive('df-41e53fc5-c21c-4d14-b537-ee167f82dfbf')\"\n",
              "              title=\"Convert this dataframe to an interactive table.\"\n",
              "              style=\"display:none;\">\n",
              "        \n",
              "  <svg xmlns=\"http://www.w3.org/2000/svg\" height=\"24px\"viewBox=\"0 0 24 24\"\n",
              "       width=\"24px\">\n",
              "    <path d=\"M0 0h24v24H0V0z\" fill=\"none\"/>\n",
              "    <path d=\"M18.56 5.44l.94 2.06.94-2.06 2.06-.94-2.06-.94-.94-2.06-.94 2.06-2.06.94zm-11 1L8.5 8.5l.94-2.06 2.06-.94-2.06-.94L8.5 2.5l-.94 2.06-2.06.94zm10 10l.94 2.06.94-2.06 2.06-.94-2.06-.94-.94-2.06-.94 2.06-2.06.94z\"/><path d=\"M17.41 7.96l-1.37-1.37c-.4-.4-.92-.59-1.43-.59-.52 0-1.04.2-1.43.59L10.3 9.45l-7.72 7.72c-.78.78-.78 2.05 0 2.83L4 21.41c.39.39.9.59 1.41.59.51 0 1.02-.2 1.41-.59l7.78-7.78 2.81-2.81c.8-.78.8-2.07 0-2.86zM5.41 20L4 18.59l7.72-7.72 1.47 1.35L5.41 20z\"/>\n",
              "  </svg>\n",
              "      </button>\n",
              "      \n",
              "  <style>\n",
              "    .colab-df-container {\n",
              "      display:flex;\n",
              "      flex-wrap:wrap;\n",
              "      gap: 12px;\n",
              "    }\n",
              "\n",
              "    .colab-df-convert {\n",
              "      background-color: #E8F0FE;\n",
              "      border: none;\n",
              "      border-radius: 50%;\n",
              "      cursor: pointer;\n",
              "      display: none;\n",
              "      fill: #1967D2;\n",
              "      height: 32px;\n",
              "      padding: 0 0 0 0;\n",
              "      width: 32px;\n",
              "    }\n",
              "\n",
              "    .colab-df-convert:hover {\n",
              "      background-color: #E2EBFA;\n",
              "      box-shadow: 0px 1px 2px rgba(60, 64, 67, 0.3), 0px 1px 3px 1px rgba(60, 64, 67, 0.15);\n",
              "      fill: #174EA6;\n",
              "    }\n",
              "\n",
              "    [theme=dark] .colab-df-convert {\n",
              "      background-color: #3B4455;\n",
              "      fill: #D2E3FC;\n",
              "    }\n",
              "\n",
              "    [theme=dark] .colab-df-convert:hover {\n",
              "      background-color: #434B5C;\n",
              "      box-shadow: 0px 1px 3px 1px rgba(0, 0, 0, 0.15);\n",
              "      filter: drop-shadow(0px 1px 2px rgba(0, 0, 0, 0.3));\n",
              "      fill: #FFFFFF;\n",
              "    }\n",
              "  </style>\n",
              "\n",
              "      <script>\n",
              "        const buttonEl =\n",
              "          document.querySelector('#df-41e53fc5-c21c-4d14-b537-ee167f82dfbf button.colab-df-convert');\n",
              "        buttonEl.style.display =\n",
              "          google.colab.kernel.accessAllowed ? 'block' : 'none';\n",
              "\n",
              "        async function convertToInteractive(key) {\n",
              "          const element = document.querySelector('#df-41e53fc5-c21c-4d14-b537-ee167f82dfbf');\n",
              "          const dataTable =\n",
              "            await google.colab.kernel.invokeFunction('convertToInteractive',\n",
              "                                                     [key], {});\n",
              "          if (!dataTable) return;\n",
              "\n",
              "          const docLinkHtml = 'Like what you see? Visit the ' +\n",
              "            '<a target=\"_blank\" href=https://colab.research.google.com/notebooks/data_table.ipynb>data table notebook</a>'\n",
              "            + ' to learn more about interactive tables.';\n",
              "          element.innerHTML = '';\n",
              "          dataTable['output_type'] = 'display_data';\n",
              "          await google.colab.output.renderOutput(dataTable, element);\n",
              "          const docLink = document.createElement('div');\n",
              "          docLink.innerHTML = docLinkHtml;\n",
              "          element.appendChild(docLink);\n",
              "        }\n",
              "      </script>\n",
              "    </div>\n",
              "  </div>\n",
              "  "
            ]
          },
          "metadata": {},
          "execution_count": 36
        }
      ]
    },
    {
      "cell_type": "code",
      "source": [
        "plt.figure(figsize=(12,2))\n",
        "sns.barplot(y=data['country'].value_counts()[:15].index,x=data['country'].value_counts()[:15].values,palette='rocket')\n",
        "plt.title('Highly affected Countries due to terrorists activities')\n",
        "plt.show()\n"
      ],
      "metadata": {
        "id": "VljSAFIOv20_",
        "colab": {
          "base_uri": "https://localhost:8080/",
          "height": 237
        },
        "outputId": "d418ecfe-6fa0-453b-8f82-4be8698ec9fa"
      },
      "execution_count": 20,
      "outputs": [
        {
          "output_type": "display_data",
          "data": {
            "text/plain": [
              "<Figure size 1200x200 with 1 Axes>"
            ],
            "image/png": "[encoded data removed]"
          },
          "metadata": {}
        }
      ]
    },
    {
      "cell_type": "code",
      "source": [
        "plt.figure(figsize = (13,7))\n",
        "sns.countplot(x='region',data=data,palette='Paired',edgecolor=sns.color_palette('dark',7),\n",
        "              order=data['region'].value_counts().index)\n",
        "plt.rcParams.update({'font.size':10});\n",
        "plt.xticks(rotation=90)\n",
        "plt.title('Attacked regions')\n",
        "plt.show()"
      ],
      "metadata": {
        "colab": {
          "base_uri": "https://localhost:8080/",
          "height": 652
        },
        "id": "AEvIppV_LMXq",
        "outputId": "71aafb66-cd97-428a-cca1-7b911d96fa47"
      },
      "execution_count": 24,
      "outputs": [
        {
          "output_type": "display_data",
          "data": {
            "text/plain": [
              "<Figure size 1300x700 with 1 Axes>"
            ],
            "image/png": "[encoded data removed]"
          },
          "metadata": {}
        }
      ]
    },
    {
      "cell_type": "markdown",
      "source": [
        "Affected cities due to terrorist attacks"
      ],
      "metadata": {
        "id": "EHrVGZ5qLhkB"
      }
    },
    {
      "cell_type": "code",
      "source": [
        "data['city'].value_counts().head(10).plot(kind='barh',figsize=[3,5])\n",
        "plt.title('Top 10 Cities in terms of terrorists attacks')\n",
        "plt.show()"
      ],
      "metadata": {
        "colab": {
          "base_uri": "https://localhost:8080/",
          "height": 468
        },
        "id": "jKCTP1nZLfKZ",
        "outputId": "f20f5399-0f7b-4039-8cc5-1b95aa6906be"
      },
      "execution_count": 26,
      "outputs": [
        {
          "output_type": "display_data",
          "data": {
            "text/plain": [
              "<Figure size 300x500 with 1 Axes>"
            ],
            "image/png": "[encoded data removed]"
          },
          "metadata": {}
        }
      ]
    }
  ]
}